{
 "cells": [
  {
   "cell_type": "markdown",
   "metadata": {},
   "source": [
    "# Backtesting Data Trader's Stochastic + RSI + MACD trading strategy \n",
    "### here is the link to his video : https://www.youtube.com/watch?v=hh3BKTFE1dc"
   ]
  },
  {
   "cell_type": "code",
   "execution_count": 3,
   "metadata": {},
   "outputs": [
    {
     "name": "stdout",
     "output_type": "stream",
     "text": [
      "Collecting ta\n",
      "  Downloading ta-0.7.0.tar.gz (25 kB)\n",
      "  Preparing metadata (setup.py): started\n",
      "  Preparing metadata (setup.py): finished with status 'done'\n",
      "Requirement already satisfied: numpy in c:\\users\\boyang\\appdata\\local\\packages\\pythonsoftwarefoundation.python.3.8_qbz5n2kfra8p0\\localcache\\local-packages\\python38\\site-packages (from ta) (1.21.3)\n",
      "Requirement already satisfied: pandas in c:\\users\\boyang\\appdata\\local\\packages\\pythonsoftwarefoundation.python.3.8_qbz5n2kfra8p0\\localcache\\local-packages\\python38\\site-packages (from ta) (1.3.4)\n",
      "Requirement already satisfied: pytz>=2017.3 in c:\\users\\boyang\\appdata\\local\\packages\\pythonsoftwarefoundation.python.3.8_qbz5n2kfra8p0\\localcache\\local-packages\\python38\\site-packages (from pandas->ta) (2021.3)\n",
      "Requirement already satisfied: python-dateutil>=2.7.3 in c:\\users\\boyang\\appdata\\local\\packages\\pythonsoftwarefoundation.python.3.8_qbz5n2kfra8p0\\localcache\\local-packages\\python38\\site-packages (from pandas->ta) (2.8.2)\n",
      "Requirement already satisfied: six>=1.5 in c:\\users\\boyang\\appdata\\local\\packages\\pythonsoftwarefoundation.python.3.8_qbz5n2kfra8p0\\localcache\\local-packages\\python38\\site-packages (from python-dateutil>=2.7.3->pandas->ta) (1.16.0)\n",
      "Using legacy 'setup.py install' for ta, since package 'wheel' is not installed.\n",
      "Installing collected packages: ta\n",
      "    Running setup.py install for ta: started\n",
      "    Running setup.py install for ta: finished with status 'done'\n",
      "Successfully installed ta-0.7.0\n"
     ]
    }
   ],
   "source": [
    "!pip install ta"
   ]
  },
  {
   "cell_type": "code",
   "execution_count": 1,
   "metadata": {},
   "outputs": [
    {
     "name": "stdout",
     "output_type": "stream",
     "text": [
      "Requirement already satisfied: yfinance in c:\\users\\boyang\\appdata\\local\\packages\\pythonsoftwarefoundation.python.3.8_qbz5n2kfra8p0\\localcache\\local-packages\\python38\\site-packages (0.1.64)\n",
      "Requirement already satisfied: pandas>=0.24 in c:\\users\\boyang\\appdata\\local\\packages\\pythonsoftwarefoundation.python.3.8_qbz5n2kfra8p0\\localcache\\local-packages\\python38\\site-packages (from yfinance) (1.3.4)\n",
      "Requirement already satisfied: numpy>=1.15 in c:\\users\\boyang\\appdata\\local\\packages\\pythonsoftwarefoundation.python.3.8_qbz5n2kfra8p0\\localcache\\local-packages\\python38\\site-packages (from yfinance) (1.21.3)\n",
      "Requirement already satisfied: requests>=2.20 in c:\\users\\boyang\\appdata\\local\\packages\\pythonsoftwarefoundation.python.3.8_qbz5n2kfra8p0\\localcache\\local-packages\\python38\\site-packages (from yfinance) (2.26.0)\n",
      "Requirement already satisfied: multitasking>=0.0.7 in c:\\users\\boyang\\appdata\\local\\packages\\pythonsoftwarefoundation.python.3.8_qbz5n2kfra8p0\\localcache\\local-packages\\python38\\site-packages (from yfinance) (0.0.9)\n",
      "Requirement already satisfied: lxml>=4.5.1 in c:\\users\\boyang\\appdata\\local\\packages\\pythonsoftwarefoundation.python.3.8_qbz5n2kfra8p0\\localcache\\local-packages\\python38\\site-packages (from yfinance) (4.6.3)\n",
      "Requirement already satisfied: python-dateutil>=2.7.3 in c:\\users\\boyang\\appdata\\local\\packages\\pythonsoftwarefoundation.python.3.8_qbz5n2kfra8p0\\localcache\\local-packages\\python38\\site-packages (from pandas>=0.24->yfinance) (2.8.2)\n",
      "Requirement already satisfied: pytz>=2017.3 in c:\\users\\boyang\\appdata\\local\\packages\\pythonsoftwarefoundation.python.3.8_qbz5n2kfra8p0\\localcache\\local-packages\\python38\\site-packages (from pandas>=0.24->yfinance) (2021.3)\n",
      "Requirement already satisfied: certifi>=2017.4.17 in c:\\users\\boyang\\appdata\\local\\packages\\pythonsoftwarefoundation.python.3.8_qbz5n2kfra8p0\\localcache\\local-packages\\python38\\site-packages (from requests>=2.20->yfinance) (2021.10.8)\n",
      "Requirement already satisfied: charset-normalizer~=2.0.0 in c:\\users\\boyang\\appdata\\local\\packages\\pythonsoftwarefoundation.python.3.8_qbz5n2kfra8p0\\localcache\\local-packages\\python38\\site-packages (from requests>=2.20->yfinance) (2.0.7)\n",
      "Requirement already satisfied: idna<4,>=2.5 in c:\\users\\boyang\\appdata\\local\\packages\\pythonsoftwarefoundation.python.3.8_qbz5n2kfra8p0\\localcache\\local-packages\\python38\\site-packages (from requests>=2.20->yfinance) (3.3)\n",
      "Requirement already satisfied: urllib3<1.27,>=1.21.1 in c:\\users\\boyang\\appdata\\local\\packages\\pythonsoftwarefoundation.python.3.8_qbz5n2kfra8p0\\localcache\\local-packages\\python38\\site-packages (from requests>=2.20->yfinance) (1.26.7)\n",
      "Requirement already satisfied: six>=1.5 in c:\\users\\boyang\\appdata\\local\\packages\\pythonsoftwarefoundation.python.3.8_qbz5n2kfra8p0\\localcache\\local-packages\\python38\\site-packages (from python-dateutil>=2.7.3->pandas>=0.24->yfinance) (1.16.0)\n"
     ]
    }
   ],
   "source": [
    "!pip install yfinance"
   ]
  },
  {
   "cell_type": "code",
   "execution_count": 4,
   "metadata": {},
   "outputs": [],
   "source": [
    "\n",
    "import yfinance as yf\n",
    "import numpy as np \n",
    "import ta\n",
    "import pandas as pd"
   ]
  },
  {
   "cell_type": "code",
   "execution_count": 5,
   "metadata": {},
   "outputs": [
    {
     "name": "stdout",
     "output_type": "stream",
     "text": [
      "[*********************100%***********************]  1 of 1 completed\n"
     ]
    }
   ],
   "source": [
    "df = yf.download('EURUSD=X', start='2021-09-15', interval='30m') # going back 60 days"
   ]
  },
  {
   "cell_type": "code",
   "execution_count": 6,
   "metadata": {},
   "outputs": [],
   "source": [
    "# Now I will calculate the technical indicators \n",
    "df['%K'] = ta.momentum.stoch(df.High, df.Low, df.Close, window=14, smooth_window=3)"
   ]
  },
  {
   "cell_type": "code",
   "execution_count": 7,
   "metadata": {},
   "outputs": [],
   "source": [
    "df['%D'] = df['%K'].rolling(3).mean()"
   ]
  },
  {
   "cell_type": "code",
   "execution_count": 8,
   "metadata": {},
   "outputs": [],
   "source": [
    "df['rsi'] = ta.momentum.rsi(df.Close, window=14)"
   ]
  },
  {
   "cell_type": "code",
   "execution_count": 9,
   "metadata": {},
   "outputs": [],
   "source": [
    "df['macd']= ta.trend.macd_diff(df.Close) "
   ]
  },
  {
   "cell_type": "code",
   "execution_count": 10,
   "metadata": {},
   "outputs": [
    {
     "data": {
      "text/html": [
       "<div>\n",
       "<style scoped>\n",
       "    .dataframe tbody tr th:only-of-type {\n",
       "        vertical-align: middle;\n",
       "    }\n",
       "\n",
       "    .dataframe tbody tr th {\n",
       "        vertical-align: top;\n",
       "    }\n",
       "\n",
       "    .dataframe thead th {\n",
       "        text-align: right;\n",
       "    }\n",
       "</style>\n",
       "<table border=\"1\" class=\"dataframe\">\n",
       "  <thead>\n",
       "    <tr style=\"text-align: right;\">\n",
       "      <th></th>\n",
       "      <th>Open</th>\n",
       "      <th>High</th>\n",
       "      <th>Low</th>\n",
       "      <th>Close</th>\n",
       "      <th>Adj Close</th>\n",
       "      <th>Volume</th>\n",
       "      <th>%K</th>\n",
       "      <th>%D</th>\n",
       "      <th>rsi</th>\n",
       "      <th>macd</th>\n",
       "    </tr>\n",
       "    <tr>\n",
       "      <th>Datetime</th>\n",
       "      <th></th>\n",
       "      <th></th>\n",
       "      <th></th>\n",
       "      <th></th>\n",
       "      <th></th>\n",
       "      <th></th>\n",
       "      <th></th>\n",
       "      <th></th>\n",
       "      <th></th>\n",
       "      <th></th>\n",
       "    </tr>\n",
       "  </thead>\n",
       "  <tbody>\n",
       "    <tr>\n",
       "      <th>2021-09-15 00:00:00+01:00</th>\n",
       "      <td>1.180916</td>\n",
       "      <td>1.180916</td>\n",
       "      <td>1.180359</td>\n",
       "      <td>1.180498</td>\n",
       "      <td>1.180498</td>\n",
       "      <td>0</td>\n",
       "      <td>NaN</td>\n",
       "      <td>NaN</td>\n",
       "      <td>NaN</td>\n",
       "      <td>NaN</td>\n",
       "    </tr>\n",
       "    <tr>\n",
       "      <th>2021-09-15 00:30:00+01:00</th>\n",
       "      <td>1.180916</td>\n",
       "      <td>1.181056</td>\n",
       "      <td>1.180498</td>\n",
       "      <td>1.181056</td>\n",
       "      <td>1.181056</td>\n",
       "      <td>0</td>\n",
       "      <td>NaN</td>\n",
       "      <td>NaN</td>\n",
       "      <td>NaN</td>\n",
       "      <td>NaN</td>\n",
       "    </tr>\n",
       "    <tr>\n",
       "      <th>2021-09-15 01:00:00+01:00</th>\n",
       "      <td>1.180638</td>\n",
       "      <td>1.180916</td>\n",
       "      <td>1.180498</td>\n",
       "      <td>1.180638</td>\n",
       "      <td>1.180638</td>\n",
       "      <td>0</td>\n",
       "      <td>NaN</td>\n",
       "      <td>NaN</td>\n",
       "      <td>NaN</td>\n",
       "      <td>NaN</td>\n",
       "    </tr>\n",
       "    <tr>\n",
       "      <th>2021-09-15 01:30:00+01:00</th>\n",
       "      <td>1.180777</td>\n",
       "      <td>1.181056</td>\n",
       "      <td>1.180498</td>\n",
       "      <td>1.180916</td>\n",
       "      <td>1.180916</td>\n",
       "      <td>0</td>\n",
       "      <td>NaN</td>\n",
       "      <td>NaN</td>\n",
       "      <td>NaN</td>\n",
       "      <td>NaN</td>\n",
       "    </tr>\n",
       "    <tr>\n",
       "      <th>2021-09-15 02:00:00+01:00</th>\n",
       "      <td>1.180916</td>\n",
       "      <td>1.181474</td>\n",
       "      <td>1.180916</td>\n",
       "      <td>1.181195</td>\n",
       "      <td>1.181195</td>\n",
       "      <td>0</td>\n",
       "      <td>NaN</td>\n",
       "      <td>NaN</td>\n",
       "      <td>NaN</td>\n",
       "      <td>NaN</td>\n",
       "    </tr>\n",
       "  </tbody>\n",
       "</table>\n",
       "</div>"
      ],
      "text/plain": [
       "                               Open      High       Low     Close  Adj Close  \\\n",
       "Datetime                                                                       \n",
       "2021-09-15 00:00:00+01:00  1.180916  1.180916  1.180359  1.180498   1.180498   \n",
       "2021-09-15 00:30:00+01:00  1.180916  1.181056  1.180498  1.181056   1.181056   \n",
       "2021-09-15 01:00:00+01:00  1.180638  1.180916  1.180498  1.180638   1.180638   \n",
       "2021-09-15 01:30:00+01:00  1.180777  1.181056  1.180498  1.180916   1.180916   \n",
       "2021-09-15 02:00:00+01:00  1.180916  1.181474  1.180916  1.181195   1.181195   \n",
       "\n",
       "                           Volume  %K  %D  rsi  macd  \n",
       "Datetime                                              \n",
       "2021-09-15 00:00:00+01:00       0 NaN NaN  NaN   NaN  \n",
       "2021-09-15 00:30:00+01:00       0 NaN NaN  NaN   NaN  \n",
       "2021-09-15 01:00:00+01:00       0 NaN NaN  NaN   NaN  \n",
       "2021-09-15 01:30:00+01:00       0 NaN NaN  NaN   NaN  \n",
       "2021-09-15 02:00:00+01:00       0 NaN NaN  NaN   NaN  "
      ]
     },
     "execution_count": 10,
     "metadata": {},
     "output_type": "execute_result"
    }
   ],
   "source": [
    "df.head()"
   ]
  },
  {
   "cell_type": "code",
   "execution_count": 11,
   "metadata": {},
   "outputs": [],
   "source": [
    "#drop NaN\n",
    "df.dropna(inplace=True)"
   ]
  },
  {
   "cell_type": "code",
   "execution_count": 13,
   "metadata": {},
   "outputs": [],
   "source": [
    "df2 = pd.DataFrame()\n",
    "for i in range(1,4): # this is 3 lags\n",
    "    mask = (df['%K'].shift(i) < 20) & (df['%D'].shift(i) < 20)\n",
    "    df2 = df2.append(mask, ignore_index=True)"
   ]
  },
  {
   "cell_type": "code",
   "execution_count": 14,
   "metadata": {},
   "outputs": [
    {
     "data": {
      "text/plain": [
       "2021-09-15 16:30:00+01:00    0.0\n",
       "2021-09-15 17:00:00+01:00    0.0\n",
       "2021-09-15 17:30:00+01:00    1.0\n",
       "2021-09-15 18:00:00+01:00    2.0\n",
       "2021-09-15 18:30:00+01:00    3.0\n",
       "                            ... \n",
       "2021-11-11 20:30:00+00:00    2.0\n",
       "2021-11-11 21:00:00+00:00    2.0\n",
       "2021-11-11 21:30:00+00:00    2.0\n",
       "2021-11-11 22:00:00+00:00    2.0\n",
       "2021-11-11 22:30:00+00:00    2.0\n",
       "Length: 1942, dtype: float64"
      ]
     },
     "execution_count": 14,
     "metadata": {},
     "output_type": "execute_result"
    }
   ],
   "source": [
    "# this is the buy signal, it chekcs if there is a cross within the last 3 days, so if the vertical sum is above 0 we have a buying signal.\n",
    "df2.head()\n",
    "df2.sum(axis=0)"
   ]
  },
  {
   "cell_type": "markdown",
   "metadata": {},
   "source": [
    "## Then we can put everything into a function."
   ]
  },
  {
   "cell_type": "code",
   "execution_count": 29,
   "metadata": {},
   "outputs": [],
   "source": [
    "\n",
    "def gettriggers(df, lags, buy=True):\n",
    "    df2 = pd.DataFrame()\n",
    "    for i in range(1, lags+1):\n",
    "        if buy:\n",
    "            mask= (df['%K'].shift(i) < 20) & (df['%D'].shift(i) < 20)\n",
    "        else: \n",
    "            mask= (df['%K'].shift(i) > 80) & (df['%D'].shift(i) > 80)\n",
    "        df2 = df2.append(mask,ignore_index=True)\n",
    "    return df2.sum(axis=0)\n"
   ]
  },
  {
   "cell_type": "code",
   "execution_count": 30,
   "metadata": {},
   "outputs": [],
   "source": [
    "df['Buytrigger'] = np.where(gettriggers(df, 4),1,0) # if we get a buy signal (sum is larger than 0) we get a 1, if we dont we get a 0."
   ]
  },
  {
   "cell_type": "code",
   "execution_count": 31,
   "metadata": {},
   "outputs": [],
   "source": [
    "df['Selltrigger'] = np.where(gettriggers(df,4, False),1,0)"
   ]
  },
  {
   "cell_type": "code",
   "execution_count": 38,
   "metadata": {},
   "outputs": [],
   "source": [
    "df['Buy'] = np.where((df.Buytrigger) & (df[\"%K\"].between(20,80)) & (df[\"%D\"].between(20,80)) & (df.rsi>50) & (df.macd > 0),1,0)"
   ]
  },
  {
   "cell_type": "code",
   "execution_count": 39,
   "metadata": {},
   "outputs": [],
   "source": [
    "df['Sell'] = np.where((df.Selltrigger) & (df['%K'].between(20,80)) & (df['%D'].between(20,80)) & (df.rsi >50) & (df.macd > 0),1,0)"
   ]
  },
  {
   "cell_type": "code",
   "execution_count": 40,
   "metadata": {},
   "outputs": [],
   "source": [
    "Buying_dates, Selling_dates = [], []"
   ]
  },
  {
   "cell_type": "code",
   "execution_count": 41,
   "metadata": {},
   "outputs": [],
   "source": [
    "for i in range(len(df) - 1): \n",
    "    if df.Buy.iloc[i]:\n",
    "        Buying_dates.append(df.iloc[i+1].name)\n",
    "        for num,j in enumerate(df.Sell[i:]):\n",
    "            if j:\n",
    "                Selling_dates.append(df.iloc[i + num + 1].name)\n",
    "                break"
   ]
  },
  {
   "cell_type": "code",
   "execution_count": 42,
   "metadata": {},
   "outputs": [],
   "source": [
    "cutit =len(Buying_dates) - len(Selling_dates)"
   ]
  },
  {
   "cell_type": "code",
   "execution_count": 45,
   "metadata": {},
   "outputs": [],
   "source": [
    "if cutit:\n",
    "    Buying_dates = Buying_dates[:-cutit]"
   ]
  },
  {
   "cell_type": "code",
   "execution_count": 46,
   "metadata": {},
   "outputs": [],
   "source": [
    "frame = pd.DataFrame({'Buying_dates':Buying_dates, 'Selling_dates': Selling_dates})"
   ]
  },
  {
   "cell_type": "code",
   "execution_count": 47,
   "metadata": {},
   "outputs": [
    {
     "data": {
      "text/html": [
       "<div>\n",
       "<style scoped>\n",
       "    .dataframe tbody tr th:only-of-type {\n",
       "        vertical-align: middle;\n",
       "    }\n",
       "\n",
       "    .dataframe tbody tr th {\n",
       "        vertical-align: top;\n",
       "    }\n",
       "\n",
       "    .dataframe thead th {\n",
       "        text-align: right;\n",
       "    }\n",
       "</style>\n",
       "<table border=\"1\" class=\"dataframe\">\n",
       "  <thead>\n",
       "    <tr style=\"text-align: right;\">\n",
       "      <th></th>\n",
       "      <th>Buying_dates</th>\n",
       "      <th>Selling_dates</th>\n",
       "    </tr>\n",
       "  </thead>\n",
       "  <tbody>\n",
       "    <tr>\n",
       "      <th>0</th>\n",
       "      <td>2021-09-22 03:00:00+01:00</td>\n",
       "      <td>2021-09-23 09:00:00+01:00</td>\n",
       "    </tr>\n",
       "    <tr>\n",
       "      <th>1</th>\n",
       "      <td>2021-09-28 13:00:00+01:00</td>\n",
       "      <td>2021-10-01 10:00:00+01:00</td>\n",
       "    </tr>\n",
       "    <tr>\n",
       "      <th>2</th>\n",
       "      <td>2021-10-07 08:00:00+01:00</td>\n",
       "      <td>2021-10-08 12:00:00+01:00</td>\n",
       "    </tr>\n",
       "    <tr>\n",
       "      <th>3</th>\n",
       "      <td>2021-10-07 08:30:00+01:00</td>\n",
       "      <td>2021-10-08 12:00:00+01:00</td>\n",
       "    </tr>\n",
       "    <tr>\n",
       "      <th>4</th>\n",
       "      <td>2021-10-14 21:00:00+01:00</td>\n",
       "      <td>2021-10-15 05:30:00+01:00</td>\n",
       "    </tr>\n",
       "    <tr>\n",
       "      <th>5</th>\n",
       "      <td>2021-10-20 03:00:00+01:00</td>\n",
       "      <td>2021-10-20 20:30:00+01:00</td>\n",
       "    </tr>\n",
       "    <tr>\n",
       "      <th>6</th>\n",
       "      <td>2021-10-27 13:00:00+01:00</td>\n",
       "      <td>2021-10-27 15:00:00+01:00</td>\n",
       "    </tr>\n",
       "    <tr>\n",
       "      <th>7</th>\n",
       "      <td>2021-10-28 04:30:00+01:00</td>\n",
       "      <td>2021-11-01 10:30:00+00:00</td>\n",
       "    </tr>\n",
       "    <tr>\n",
       "      <th>8</th>\n",
       "      <td>2021-11-05 05:30:00+00:00</td>\n",
       "      <td>2021-11-05 18:30:00+00:00</td>\n",
       "    </tr>\n",
       "  </tbody>\n",
       "</table>\n",
       "</div>"
      ],
      "text/plain": [
       "               Buying_dates             Selling_dates\n",
       "0 2021-09-22 03:00:00+01:00 2021-09-23 09:00:00+01:00\n",
       "1 2021-09-28 13:00:00+01:00 2021-10-01 10:00:00+01:00\n",
       "2 2021-10-07 08:00:00+01:00 2021-10-08 12:00:00+01:00\n",
       "3 2021-10-07 08:30:00+01:00 2021-10-08 12:00:00+01:00\n",
       "4 2021-10-14 21:00:00+01:00 2021-10-15 05:30:00+01:00\n",
       "5 2021-10-20 03:00:00+01:00 2021-10-20 20:30:00+01:00\n",
       "6 2021-10-27 13:00:00+01:00 2021-10-27 15:00:00+01:00\n",
       "7 2021-10-28 04:30:00+01:00 2021-11-01 10:30:00+00:00\n",
       "8 2021-11-05 05:30:00+00:00 2021-11-05 18:30:00+00:00"
      ]
     },
     "execution_count": 47,
     "metadata": {},
     "output_type": "execute_result"
    }
   ],
   "source": [
    "frame"
   ]
  },
  {
   "cell_type": "code",
   "execution_count": 48,
   "metadata": {},
   "outputs": [],
   "source": [
    "actuals = frame[frame.Buying_dates > frame.Selling_dates.shift(1)]"
   ]
  },
  {
   "cell_type": "code",
   "execution_count": 49,
   "metadata": {},
   "outputs": [
    {
     "data": {
      "text/html": [
       "<div>\n",
       "<style scoped>\n",
       "    .dataframe tbody tr th:only-of-type {\n",
       "        vertical-align: middle;\n",
       "    }\n",
       "\n",
       "    .dataframe tbody tr th {\n",
       "        vertical-align: top;\n",
       "    }\n",
       "\n",
       "    .dataframe thead th {\n",
       "        text-align: right;\n",
       "    }\n",
       "</style>\n",
       "<table border=\"1\" class=\"dataframe\">\n",
       "  <thead>\n",
       "    <tr style=\"text-align: right;\">\n",
       "      <th></th>\n",
       "      <th>Buying_dates</th>\n",
       "      <th>Selling_dates</th>\n",
       "    </tr>\n",
       "  </thead>\n",
       "  <tbody>\n",
       "    <tr>\n",
       "      <th>1</th>\n",
       "      <td>2021-09-28 13:00:00+01:00</td>\n",
       "      <td>2021-10-01 10:00:00+01:00</td>\n",
       "    </tr>\n",
       "    <tr>\n",
       "      <th>2</th>\n",
       "      <td>2021-10-07 08:00:00+01:00</td>\n",
       "      <td>2021-10-08 12:00:00+01:00</td>\n",
       "    </tr>\n",
       "    <tr>\n",
       "      <th>4</th>\n",
       "      <td>2021-10-14 21:00:00+01:00</td>\n",
       "      <td>2021-10-15 05:30:00+01:00</td>\n",
       "    </tr>\n",
       "    <tr>\n",
       "      <th>5</th>\n",
       "      <td>2021-10-20 03:00:00+01:00</td>\n",
       "      <td>2021-10-20 20:30:00+01:00</td>\n",
       "    </tr>\n",
       "    <tr>\n",
       "      <th>6</th>\n",
       "      <td>2021-10-27 13:00:00+01:00</td>\n",
       "      <td>2021-10-27 15:00:00+01:00</td>\n",
       "    </tr>\n",
       "    <tr>\n",
       "      <th>7</th>\n",
       "      <td>2021-10-28 04:30:00+01:00</td>\n",
       "      <td>2021-11-01 10:30:00+00:00</td>\n",
       "    </tr>\n",
       "    <tr>\n",
       "      <th>8</th>\n",
       "      <td>2021-11-05 05:30:00+00:00</td>\n",
       "      <td>2021-11-05 18:30:00+00:00</td>\n",
       "    </tr>\n",
       "  </tbody>\n",
       "</table>\n",
       "</div>"
      ],
      "text/plain": [
       "               Buying_dates             Selling_dates\n",
       "1 2021-09-28 13:00:00+01:00 2021-10-01 10:00:00+01:00\n",
       "2 2021-10-07 08:00:00+01:00 2021-10-08 12:00:00+01:00\n",
       "4 2021-10-14 21:00:00+01:00 2021-10-15 05:30:00+01:00\n",
       "5 2021-10-20 03:00:00+01:00 2021-10-20 20:30:00+01:00\n",
       "6 2021-10-27 13:00:00+01:00 2021-10-27 15:00:00+01:00\n",
       "7 2021-10-28 04:30:00+01:00 2021-11-01 10:30:00+00:00\n",
       "8 2021-11-05 05:30:00+00:00 2021-11-05 18:30:00+00:00"
      ]
     },
     "execution_count": 49,
     "metadata": {},
     "output_type": "execute_result"
    }
   ],
   "source": [
    "actuals"
   ]
  }
 ],
 "metadata": {
  "interpreter": {
   "hash": "35bb31b06ee2a22ff081d9deaa83ac49e749339a652906ee59ebb4588edc2a3c"
  },
  "kernelspec": {
   "display_name": "Python 3.9.5 64-bit ('base': conda)",
   "language": "python",
   "name": "python3"
  },
  "language_info": {
   "codemirror_mode": {
    "name": "ipython",
    "version": 3
   },
   "file_extension": ".py",
   "mimetype": "text/x-python",
   "name": "python",
   "nbconvert_exporter": "python",
   "pygments_lexer": "ipython3",
   "version": "3.8.10"
  },
  "orig_nbformat": 4
 },
 "nbformat": 4,
 "nbformat_minor": 2
}
