{
 "cells": [
  {
   "cell_type": "markdown",
   "metadata": {},
   "source": [
    "# Backtesting Data Trader's Stochastic + RSI + MACD trading strategy \n",
    "### here is the link to his video : https://www.youtube.com/watch?v=hh3BKTFE1dc"
   ]
  },
  {
   "cell_type": "markdown",
   "metadata": {},
   "source": [
    "### Buying conditions: stochastic - Both K and D line should be above 20 and below 80. If K and D line both hit below 20 (Buy signal)\n",
    "###                    RSI - above 50 \n",
    "###                    MACD line should be above signal line, so difference between MACD and signal line should be positive\n",
    "### Selling condition: K and KD line should be between 20 and 80. If K and D line hit above 80 (Sell signal)\n",
    "###                    RSI should be below 50 \n",
    "###                    Signal line crosses to go below the MACD line, so difference between MACD and signal line should be negative"
   ]
  },
  {
   "cell_type": "code",
   "execution_count": 288,
   "metadata": {},
   "outputs": [
    {
     "name": "stdout",
     "output_type": "stream",
     "text": [
      "Requirement already satisfied: ta in c:\\users\\b5-chen\\appdata\\local\\packages\\pythonsoftwarefoundation.python.3.9_qbz5n2kfra8p0\\localcache\\local-packages\\python39\\site-packages (0.7.0)\n",
      "Requirement already satisfied: numpy in c:\\users\\b5-chen\\appdata\\local\\packages\\pythonsoftwarefoundation.python.3.9_qbz5n2kfra8p0\\localcache\\local-packages\\python39\\site-packages (from ta) (1.21.3)\n",
      "Requirement already satisfied: pandas in c:\\users\\b5-chen\\appdata\\local\\packages\\pythonsoftwarefoundation.python.3.9_qbz5n2kfra8p0\\localcache\\local-packages\\python39\\site-packages (from ta) (1.3.4)\n",
      "Requirement already satisfied: pytz>=2017.3 in c:\\users\\b5-chen\\appdata\\local\\packages\\pythonsoftwarefoundation.python.3.9_qbz5n2kfra8p0\\localcache\\local-packages\\python39\\site-packages (from pandas->ta) (2021.3)\n",
      "Requirement already satisfied: python-dateutil>=2.7.3 in c:\\users\\b5-chen\\appdata\\local\\packages\\pythonsoftwarefoundation.python.3.9_qbz5n2kfra8p0\\localcache\\local-packages\\python39\\site-packages (from pandas->ta) (2.8.2)\n",
      "Requirement already satisfied: six>=1.5 in c:\\users\\b5-chen\\appdata\\local\\packages\\pythonsoftwarefoundation.python.3.9_qbz5n2kfra8p0\\localcache\\local-packages\\python39\\site-packages (from python-dateutil>=2.7.3->pandas->ta) (1.16.0)\n"
     ]
    }
   ],
   "source": [
    "!pip install ta"
   ]
  },
  {
   "cell_type": "code",
   "execution_count": 289,
   "metadata": {},
   "outputs": [
    {
     "name": "stdout",
     "output_type": "stream",
     "text": [
      "Requirement already satisfied: yfinance in c:\\users\\b5-chen\\appdata\\local\\packages\\pythonsoftwarefoundation.python.3.9_qbz5n2kfra8p0\\localcache\\local-packages\\python39\\site-packages (0.1.64)\n",
      "Requirement already satisfied: pandas>=0.24 in c:\\users\\b5-chen\\appdata\\local\\packages\\pythonsoftwarefoundation.python.3.9_qbz5n2kfra8p0\\localcache\\local-packages\\python39\\site-packages (from yfinance) (1.3.4)\n",
      "Requirement already satisfied: numpy>=1.15 in c:\\users\\b5-chen\\appdata\\local\\packages\\pythonsoftwarefoundation.python.3.9_qbz5n2kfra8p0\\localcache\\local-packages\\python39\\site-packages (from yfinance) (1.21.3)\n",
      "Requirement already satisfied: requests>=2.20 in c:\\users\\b5-chen\\appdata\\local\\packages\\pythonsoftwarefoundation.python.3.9_qbz5n2kfra8p0\\localcache\\local-packages\\python39\\site-packages (from yfinance) (2.26.0)\n",
      "Requirement already satisfied: multitasking>=0.0.7 in c:\\users\\b5-chen\\appdata\\local\\packages\\pythonsoftwarefoundation.python.3.9_qbz5n2kfra8p0\\localcache\\local-packages\\python39\\site-packages (from yfinance) (0.0.9)\n",
      "Requirement already satisfied: lxml>=4.5.1 in c:\\users\\b5-chen\\appdata\\local\\packages\\pythonsoftwarefoundation.python.3.9_qbz5n2kfra8p0\\localcache\\local-packages\\python39\\site-packages (from yfinance) (4.6.4)\n",
      "Requirement already satisfied: python-dateutil>=2.7.3 in c:\\users\\b5-chen\\appdata\\local\\packages\\pythonsoftwarefoundation.python.3.9_qbz5n2kfra8p0\\localcache\\local-packages\\python39\\site-packages (from pandas>=0.24->yfinance) (2.8.2)\n",
      "Requirement already satisfied: pytz>=2017.3 in c:\\users\\b5-chen\\appdata\\local\\packages\\pythonsoftwarefoundation.python.3.9_qbz5n2kfra8p0\\localcache\\local-packages\\python39\\site-packages (from pandas>=0.24->yfinance) (2021.3)\n",
      "Requirement already satisfied: charset-normalizer~=2.0.0 in c:\\users\\b5-chen\\appdata\\local\\packages\\pythonsoftwarefoundation.python.3.9_qbz5n2kfra8p0\\localcache\\local-packages\\python39\\site-packages (from requests>=2.20->yfinance) (2.0.7)\n",
      "Requirement already satisfied: urllib3<1.27,>=1.21.1 in c:\\users\\b5-chen\\appdata\\local\\packages\\pythonsoftwarefoundation.python.3.9_qbz5n2kfra8p0\\localcache\\local-packages\\python39\\site-packages (from requests>=2.20->yfinance) (1.26.7)\n",
      "Requirement already satisfied: certifi>=2017.4.17 in c:\\users\\b5-chen\\appdata\\local\\packages\\pythonsoftwarefoundation.python.3.9_qbz5n2kfra8p0\\localcache\\local-packages\\python39\\site-packages (from requests>=2.20->yfinance) (2021.10.8)\n",
      "Requirement already satisfied: idna<4,>=2.5 in c:\\users\\b5-chen\\appdata\\local\\packages\\pythonsoftwarefoundation.python.3.9_qbz5n2kfra8p0\\localcache\\local-packages\\python39\\site-packages (from requests>=2.20->yfinance) (3.3)\n",
      "Requirement already satisfied: six>=1.5 in c:\\users\\b5-chen\\appdata\\local\\packages\\pythonsoftwarefoundation.python.3.9_qbz5n2kfra8p0\\localcache\\local-packages\\python39\\site-packages (from python-dateutil>=2.7.3->pandas>=0.24->yfinance) (1.16.0)\n"
     ]
    }
   ],
   "source": [
    "!pip install yfinance"
   ]
  },
  {
   "cell_type": "code",
   "execution_count": 290,
   "metadata": {},
   "outputs": [],
   "source": [
    "\n",
    "import yfinance as yf\n",
    "import numpy as np \n",
    "import ta\n",
    "import pandas as pd"
   ]
  },
  {
   "cell_type": "code",
   "execution_count": 291,
   "metadata": {},
   "outputs": [
    {
     "name": "stdout",
     "output_type": "stream",
     "text": [
      "[*********************100%***********************]  1 of 1 completed\n"
     ]
    }
   ],
   "source": [
    "# we chose a 30 minute interval here, but you may play around with the arguments\n",
    "df = yf.download('BTC-USD', start='2021-09-15', interval='15m') "
   ]
  },
  {
   "cell_type": "code",
   "execution_count": 292,
   "metadata": {},
   "outputs": [],
   "source": [
    "# Now I will calculate the technical indicators \n",
    "df['%K'] = ta.momentum.stoch(df.High, df.Low, df.Close, window=14, smooth_window=3)"
   ]
  },
  {
   "cell_type": "code",
   "execution_count": 293,
   "metadata": {},
   "outputs": [],
   "source": [
    "df['%D'] = df['%K'].rolling(3).mean()"
   ]
  },
  {
   "cell_type": "code",
   "execution_count": 294,
   "metadata": {},
   "outputs": [],
   "source": [
    "df['rsi'] = ta.momentum.rsi(df.Close, window=14)"
   ]
  },
  {
   "cell_type": "code",
   "execution_count": 295,
   "metadata": {},
   "outputs": [],
   "source": [
    "df['macd']= ta.trend.macd_diff(df.Close) "
   ]
  },
  {
   "cell_type": "code",
   "execution_count": 296,
   "metadata": {},
   "outputs": [
    {
     "data": {
      "text/html": [
       "<div>\n",
       "<style scoped>\n",
       "    .dataframe tbody tr th:only-of-type {\n",
       "        vertical-align: middle;\n",
       "    }\n",
       "\n",
       "    .dataframe tbody tr th {\n",
       "        vertical-align: top;\n",
       "    }\n",
       "\n",
       "    .dataframe thead th {\n",
       "        text-align: right;\n",
       "    }\n",
       "</style>\n",
       "<table border=\"1\" class=\"dataframe\">\n",
       "  <thead>\n",
       "    <tr style=\"text-align: right;\">\n",
       "      <th></th>\n",
       "      <th>Open</th>\n",
       "      <th>High</th>\n",
       "      <th>Low</th>\n",
       "      <th>Close</th>\n",
       "      <th>Adj Close</th>\n",
       "      <th>Volume</th>\n",
       "      <th>%K</th>\n",
       "      <th>%D</th>\n",
       "      <th>rsi</th>\n",
       "      <th>macd</th>\n",
       "    </tr>\n",
       "    <tr>\n",
       "      <th>Datetime</th>\n",
       "      <th></th>\n",
       "      <th></th>\n",
       "      <th></th>\n",
       "      <th></th>\n",
       "      <th></th>\n",
       "      <th></th>\n",
       "      <th></th>\n",
       "      <th></th>\n",
       "      <th></th>\n",
       "      <th></th>\n",
       "    </tr>\n",
       "  </thead>\n",
       "  <tbody>\n",
       "    <tr>\n",
       "      <th>2021-09-14 23:00:00+00:00</th>\n",
       "      <td>47215.609375</td>\n",
       "      <td>47215.609375</td>\n",
       "      <td>47016.867188</td>\n",
       "      <td>47052.167969</td>\n",
       "      <td>47052.167969</td>\n",
       "      <td>0</td>\n",
       "      <td>NaN</td>\n",
       "      <td>NaN</td>\n",
       "      <td>NaN</td>\n",
       "      <td>NaN</td>\n",
       "    </tr>\n",
       "    <tr>\n",
       "      <th>2021-09-14 23:15:00+00:00</th>\n",
       "      <td>47072.875000</td>\n",
       "      <td>47096.769531</td>\n",
       "      <td>46976.609375</td>\n",
       "      <td>46976.609375</td>\n",
       "      <td>46976.609375</td>\n",
       "      <td>14983168</td>\n",
       "      <td>NaN</td>\n",
       "      <td>NaN</td>\n",
       "      <td>NaN</td>\n",
       "      <td>NaN</td>\n",
       "    </tr>\n",
       "    <tr>\n",
       "      <th>2021-09-14 23:30:00+00:00</th>\n",
       "      <td>46991.179688</td>\n",
       "      <td>47091.554688</td>\n",
       "      <td>46940.933594</td>\n",
       "      <td>47027.570312</td>\n",
       "      <td>47027.570312</td>\n",
       "      <td>47706112</td>\n",
       "      <td>NaN</td>\n",
       "      <td>NaN</td>\n",
       "      <td>NaN</td>\n",
       "      <td>NaN</td>\n",
       "    </tr>\n",
       "    <tr>\n",
       "      <th>2021-09-14 23:45:00+00:00</th>\n",
       "      <td>47034.035156</td>\n",
       "      <td>47050.539062</td>\n",
       "      <td>47005.296875</td>\n",
       "      <td>47050.539062</td>\n",
       "      <td>47050.539062</td>\n",
       "      <td>5754880</td>\n",
       "      <td>NaN</td>\n",
       "      <td>NaN</td>\n",
       "      <td>NaN</td>\n",
       "      <td>NaN</td>\n",
       "    </tr>\n",
       "    <tr>\n",
       "      <th>2021-09-15 00:00:00+00:00</th>\n",
       "      <td>47098.000000</td>\n",
       "      <td>47179.304688</td>\n",
       "      <td>46982.554688</td>\n",
       "      <td>46996.730469</td>\n",
       "      <td>46996.730469</td>\n",
       "      <td>135139328</td>\n",
       "      <td>NaN</td>\n",
       "      <td>NaN</td>\n",
       "      <td>NaN</td>\n",
       "      <td>NaN</td>\n",
       "    </tr>\n",
       "  </tbody>\n",
       "</table>\n",
       "</div>"
      ],
      "text/plain": [
       "                                   Open          High           Low  \\\n",
       "Datetime                                                              \n",
       "2021-09-14 23:00:00+00:00  47215.609375  47215.609375  47016.867188   \n",
       "2021-09-14 23:15:00+00:00  47072.875000  47096.769531  46976.609375   \n",
       "2021-09-14 23:30:00+00:00  46991.179688  47091.554688  46940.933594   \n",
       "2021-09-14 23:45:00+00:00  47034.035156  47050.539062  47005.296875   \n",
       "2021-09-15 00:00:00+00:00  47098.000000  47179.304688  46982.554688   \n",
       "\n",
       "                                  Close     Adj Close     Volume  %K  %D  rsi  \\\n",
       "Datetime                                                                        \n",
       "2021-09-14 23:00:00+00:00  47052.167969  47052.167969          0 NaN NaN  NaN   \n",
       "2021-09-14 23:15:00+00:00  46976.609375  46976.609375   14983168 NaN NaN  NaN   \n",
       "2021-09-14 23:30:00+00:00  47027.570312  47027.570312   47706112 NaN NaN  NaN   \n",
       "2021-09-14 23:45:00+00:00  47050.539062  47050.539062    5754880 NaN NaN  NaN   \n",
       "2021-09-15 00:00:00+00:00  46996.730469  46996.730469  135139328 NaN NaN  NaN   \n",
       "\n",
       "                           macd  \n",
       "Datetime                         \n",
       "2021-09-14 23:00:00+00:00   NaN  \n",
       "2021-09-14 23:15:00+00:00   NaN  \n",
       "2021-09-14 23:30:00+00:00   NaN  \n",
       "2021-09-14 23:45:00+00:00   NaN  \n",
       "2021-09-15 00:00:00+00:00   NaN  "
      ]
     },
     "execution_count": 296,
     "metadata": {},
     "output_type": "execute_result"
    }
   ],
   "source": [
    "df.head()"
   ]
  },
  {
   "cell_type": "code",
   "execution_count": 297,
   "metadata": {},
   "outputs": [],
   "source": [
    "#drop NaN\n",
    "df.dropna(inplace=True)"
   ]
  },
  {
   "cell_type": "code",
   "execution_count": 298,
   "metadata": {},
   "outputs": [],
   "source": [
    "df2 = pd.DataFrame()\n",
    "for i in range(1,4): # this is 3 lags\n",
    "    mask = (df['%K'].shift(i) < 25) & (df['%D'].shift(i) < 25)\n",
    "    df2 = df2.append(mask, ignore_index=True)"
   ]
  },
  {
   "cell_type": "code",
   "execution_count": 299,
   "metadata": {},
   "outputs": [
    {
     "data": {
      "text/plain": [
       "2021-09-15 07:15:00+00:00    0.0\n",
       "2021-09-15 07:30:00+00:00    0.0\n",
       "2021-09-15 07:45:00+00:00    0.0\n",
       "2021-09-15 08:00:00+00:00    0.0\n",
       "2021-09-15 08:15:00+00:00    0.0\n",
       "                            ... \n",
       "2021-11-13 15:15:00+00:00    0.0\n",
       "2021-11-13 15:30:00+00:00    0.0\n",
       "2021-11-13 15:45:00+00:00    0.0\n",
       "2021-11-13 16:00:00+00:00    0.0\n",
       "2021-11-13 16:08:02+00:00    0.0\n",
       "Length: 5701, dtype: float64"
      ]
     },
     "execution_count": 299,
     "metadata": {},
     "output_type": "execute_result"
    }
   ],
   "source": [
    "# this is the buy signal, it chekcs if there is a cross within the last 3 days, so if the vertical sum is above 0 we have a buying signal.\n",
    "df2.head()\n",
    "df2.sum(axis=0)"
   ]
  },
  {
   "cell_type": "markdown",
   "metadata": {},
   "source": [
    "## Then we can put everything into a function."
   ]
  },
  {
   "cell_type": "code",
   "execution_count": 300,
   "metadata": {},
   "outputs": [],
   "source": [
    "\n",
    "def gettriggers(df, lags, buy=True):\n",
    "    df2 = pd.DataFrame()\n",
    "    for i in range(1, lags+1):\n",
    "        if buy:\n",
    "            mask= (df['%K'].shift(i) < 25) & (df['%D'].shift(i) < 25)\n",
    "        else: \n",
    "            mask= (df['%K'].shift(i) > 75) & (df['%D'].shift(i) > 75)\n",
    "        df2 = df2.append(mask,ignore_index=True)\n",
    "    return df2.sum(axis=0)\n"
   ]
  },
  {
   "cell_type": "code",
   "execution_count": 301,
   "metadata": {},
   "outputs": [
    {
     "data": {
      "text/html": [
       "<div>\n",
       "<style scoped>\n",
       "    .dataframe tbody tr th:only-of-type {\n",
       "        vertical-align: middle;\n",
       "    }\n",
       "\n",
       "    .dataframe tbody tr th {\n",
       "        vertical-align: top;\n",
       "    }\n",
       "\n",
       "    .dataframe thead th {\n",
       "        text-align: right;\n",
       "    }\n",
       "</style>\n",
       "<table border=\"1\" class=\"dataframe\">\n",
       "  <thead>\n",
       "    <tr style=\"text-align: right;\">\n",
       "      <th></th>\n",
       "      <th>2021-09-15 07:15:00+00:00</th>\n",
       "      <th>2021-09-15 07:30:00+00:00</th>\n",
       "      <th>2021-09-15 07:45:00+00:00</th>\n",
       "      <th>2021-09-15 08:00:00+00:00</th>\n",
       "      <th>2021-09-15 08:15:00+00:00</th>\n",
       "      <th>2021-09-15 08:30:00+00:00</th>\n",
       "      <th>2021-09-15 08:45:00+00:00</th>\n",
       "      <th>2021-09-15 09:00:00+00:00</th>\n",
       "      <th>2021-09-15 09:15:00+00:00</th>\n",
       "      <th>2021-09-15 09:30:00+00:00</th>\n",
       "      <th>...</th>\n",
       "      <th>2021-11-13 14:00:00+00:00</th>\n",
       "      <th>2021-11-13 14:15:00+00:00</th>\n",
       "      <th>2021-11-13 14:30:00+00:00</th>\n",
       "      <th>2021-11-13 14:45:00+00:00</th>\n",
       "      <th>2021-11-13 15:00:00+00:00</th>\n",
       "      <th>2021-11-13 15:15:00+00:00</th>\n",
       "      <th>2021-11-13 15:30:00+00:00</th>\n",
       "      <th>2021-11-13 15:45:00+00:00</th>\n",
       "      <th>2021-11-13 16:00:00+00:00</th>\n",
       "      <th>2021-11-13 16:08:02+00:00</th>\n",
       "    </tr>\n",
       "  </thead>\n",
       "  <tbody>\n",
       "    <tr>\n",
       "      <th>0</th>\n",
       "      <td>0.0</td>\n",
       "      <td>0.0</td>\n",
       "      <td>0.0</td>\n",
       "      <td>0.0</td>\n",
       "      <td>0.0</td>\n",
       "      <td>0.0</td>\n",
       "      <td>0.0</td>\n",
       "      <td>0.0</td>\n",
       "      <td>0.0</td>\n",
       "      <td>0.0</td>\n",
       "      <td>...</td>\n",
       "      <td>0.0</td>\n",
       "      <td>0.0</td>\n",
       "      <td>0.0</td>\n",
       "      <td>0.0</td>\n",
       "      <td>0.0</td>\n",
       "      <td>0.0</td>\n",
       "      <td>0.0</td>\n",
       "      <td>0.0</td>\n",
       "      <td>0.0</td>\n",
       "      <td>0.0</td>\n",
       "    </tr>\n",
       "    <tr>\n",
       "      <th>1</th>\n",
       "      <td>0.0</td>\n",
       "      <td>0.0</td>\n",
       "      <td>0.0</td>\n",
       "      <td>0.0</td>\n",
       "      <td>0.0</td>\n",
       "      <td>0.0</td>\n",
       "      <td>0.0</td>\n",
       "      <td>0.0</td>\n",
       "      <td>0.0</td>\n",
       "      <td>0.0</td>\n",
       "      <td>...</td>\n",
       "      <td>0.0</td>\n",
       "      <td>0.0</td>\n",
       "      <td>0.0</td>\n",
       "      <td>0.0</td>\n",
       "      <td>0.0</td>\n",
       "      <td>0.0</td>\n",
       "      <td>0.0</td>\n",
       "      <td>0.0</td>\n",
       "      <td>0.0</td>\n",
       "      <td>0.0</td>\n",
       "    </tr>\n",
       "    <tr>\n",
       "      <th>2</th>\n",
       "      <td>0.0</td>\n",
       "      <td>0.0</td>\n",
       "      <td>0.0</td>\n",
       "      <td>0.0</td>\n",
       "      <td>0.0</td>\n",
       "      <td>0.0</td>\n",
       "      <td>0.0</td>\n",
       "      <td>0.0</td>\n",
       "      <td>0.0</td>\n",
       "      <td>0.0</td>\n",
       "      <td>...</td>\n",
       "      <td>0.0</td>\n",
       "      <td>0.0</td>\n",
       "      <td>0.0</td>\n",
       "      <td>0.0</td>\n",
       "      <td>0.0</td>\n",
       "      <td>0.0</td>\n",
       "      <td>0.0</td>\n",
       "      <td>0.0</td>\n",
       "      <td>0.0</td>\n",
       "      <td>0.0</td>\n",
       "    </tr>\n",
       "  </tbody>\n",
       "</table>\n",
       "<p>3 rows × 5701 columns</p>\n",
       "</div>"
      ],
      "text/plain": [
       "   2021-09-15 07:15:00+00:00  2021-09-15 07:30:00+00:00  \\\n",
       "0                        0.0                        0.0   \n",
       "1                        0.0                        0.0   \n",
       "2                        0.0                        0.0   \n",
       "\n",
       "   2021-09-15 07:45:00+00:00  2021-09-15 08:00:00+00:00  \\\n",
       "0                        0.0                        0.0   \n",
       "1                        0.0                        0.0   \n",
       "2                        0.0                        0.0   \n",
       "\n",
       "   2021-09-15 08:15:00+00:00  2021-09-15 08:30:00+00:00  \\\n",
       "0                        0.0                        0.0   \n",
       "1                        0.0                        0.0   \n",
       "2                        0.0                        0.0   \n",
       "\n",
       "   2021-09-15 08:45:00+00:00  2021-09-15 09:00:00+00:00  \\\n",
       "0                        0.0                        0.0   \n",
       "1                        0.0                        0.0   \n",
       "2                        0.0                        0.0   \n",
       "\n",
       "   2021-09-15 09:15:00+00:00  2021-09-15 09:30:00+00:00  ...  \\\n",
       "0                        0.0                        0.0  ...   \n",
       "1                        0.0                        0.0  ...   \n",
       "2                        0.0                        0.0  ...   \n",
       "\n",
       "   2021-11-13 14:00:00+00:00  2021-11-13 14:15:00+00:00  \\\n",
       "0                        0.0                        0.0   \n",
       "1                        0.0                        0.0   \n",
       "2                        0.0                        0.0   \n",
       "\n",
       "   2021-11-13 14:30:00+00:00  2021-11-13 14:45:00+00:00  \\\n",
       "0                        0.0                        0.0   \n",
       "1                        0.0                        0.0   \n",
       "2                        0.0                        0.0   \n",
       "\n",
       "   2021-11-13 15:00:00+00:00  2021-11-13 15:15:00+00:00  \\\n",
       "0                        0.0                        0.0   \n",
       "1                        0.0                        0.0   \n",
       "2                        0.0                        0.0   \n",
       "\n",
       "   2021-11-13 15:30:00+00:00  2021-11-13 15:45:00+00:00  \\\n",
       "0                        0.0                        0.0   \n",
       "1                        0.0                        0.0   \n",
       "2                        0.0                        0.0   \n",
       "\n",
       "   2021-11-13 16:00:00+00:00  2021-11-13 16:08:02+00:00  \n",
       "0                        0.0                        0.0  \n",
       "1                        0.0                        0.0  \n",
       "2                        0.0                        0.0  \n",
       "\n",
       "[3 rows x 5701 columns]"
      ]
     },
     "execution_count": 301,
     "metadata": {},
     "output_type": "execute_result"
    }
   ],
   "source": [
    "df2.head()"
   ]
  },
  {
   "cell_type": "code",
   "execution_count": 302,
   "metadata": {},
   "outputs": [],
   "source": [
    "df['Buytrigger'] = np.where(gettriggers(df, 4),1,0) # if we get a buy signal (sum is larger than 0) we get a 1, if we dont we get a 0."
   ]
  },
  {
   "cell_type": "code",
   "execution_count": 303,
   "metadata": {},
   "outputs": [],
   "source": [
    "df['Selltrigger'] = np.where(gettriggers(df,4, False),1,0)"
   ]
  },
  {
   "cell_type": "code",
   "execution_count": 304,
   "metadata": {},
   "outputs": [],
   "source": [
    "df['Buy'] = np.where((df.Buytrigger) & (df[\"%K\"].between(25,75)) & (df[\"%D\"].between(25,75)) & (df.rsi>50) & (df.macd > 0),1,0)"
   ]
  },
  {
   "cell_type": "code",
   "execution_count": 305,
   "metadata": {},
   "outputs": [],
   "source": [
    "df['Sell'] = np.where((df.Selltrigger) & (df['%K'].between(25,75)) & (df['%D'].between(25,75)) & (df.rsi >50) & (df.macd > 0),1,0)"
   ]
  },
  {
   "cell_type": "code",
   "execution_count": 306,
   "metadata": {},
   "outputs": [],
   "source": [
    "Buying_dates, Selling_dates = [], []"
   ]
  },
  {
   "cell_type": "code",
   "execution_count": 307,
   "metadata": {},
   "outputs": [],
   "source": [
    "for i in range(len(df) - 1): \n",
    "    if df.Buy.iloc[i]: # checking if each row has a buy signal\n",
    "        Buying_dates.append(df.iloc[i +1].name) # if condition is met, you buy at the next timepoint (next row)\n",
    "        for num,j in enumerate(df.Sell[i:]): # checking from the buying date if the selling conditions are fulfilled.\n",
    "            if j: # j is the signal if its 1 or 0 \n",
    "                Selling_dates.append(df.iloc[i + num + 1].name) # i + num because num is the number of iterations.\n",
    "                break"
   ]
  },
  {
   "cell_type": "code",
   "execution_count": 308,
   "metadata": {},
   "outputs": [],
   "source": [
    "cutoff =len(Buying_dates) - len(Selling_dates)"
   ]
  },
  {
   "cell_type": "code",
   "execution_count": 309,
   "metadata": {},
   "outputs": [],
   "source": [
    "if cutoff:\n",
    "    Buying_dates = Buying_dates[:-cutoff] # removing the buying dates if the selling conditions have not been fulfilled."
   ]
  },
  {
   "cell_type": "code",
   "execution_count": 310,
   "metadata": {},
   "outputs": [],
   "source": [
    "frame = pd.DataFrame({'Buying_dates':Buying_dates, 'Selling_dates': Selling_dates})"
   ]
  },
  {
   "cell_type": "code",
   "execution_count": 311,
   "metadata": {},
   "outputs": [
    {
     "data": {
      "text/html": [
       "<div>\n",
       "<style scoped>\n",
       "    .dataframe tbody tr th:only-of-type {\n",
       "        vertical-align: middle;\n",
       "    }\n",
       "\n",
       "    .dataframe tbody tr th {\n",
       "        vertical-align: top;\n",
       "    }\n",
       "\n",
       "    .dataframe thead th {\n",
       "        text-align: right;\n",
       "    }\n",
       "</style>\n",
       "<table border=\"1\" class=\"dataframe\">\n",
       "  <thead>\n",
       "    <tr style=\"text-align: right;\">\n",
       "      <th></th>\n",
       "      <th>Buying_dates</th>\n",
       "      <th>Selling_dates</th>\n",
       "    </tr>\n",
       "  </thead>\n",
       "  <tbody>\n",
       "    <tr>\n",
       "      <th>0</th>\n",
       "      <td>2021-09-19 19:00:00+00:00</td>\n",
       "      <td>2021-09-19 19:30:00+00:00</td>\n",
       "    </tr>\n",
       "    <tr>\n",
       "      <th>1</th>\n",
       "      <td>2021-09-21 06:15:00+00:00</td>\n",
       "      <td>2021-09-21 10:00:00+00:00</td>\n",
       "    </tr>\n",
       "    <tr>\n",
       "      <th>2</th>\n",
       "      <td>2021-09-21 16:15:00+00:00</td>\n",
       "      <td>2021-09-22 04:45:00+00:00</td>\n",
       "    </tr>\n",
       "    <tr>\n",
       "      <th>3</th>\n",
       "      <td>2021-09-25 13:30:00+00:00</td>\n",
       "      <td>2021-09-25 16:45:00+00:00</td>\n",
       "    </tr>\n",
       "    <tr>\n",
       "      <th>4</th>\n",
       "      <td>2021-09-25 13:45:00+00:00</td>\n",
       "      <td>2021-09-25 16:45:00+00:00</td>\n",
       "    </tr>\n",
       "    <tr>\n",
       "      <th>5</th>\n",
       "      <td>2021-09-25 14:00:00+00:00</td>\n",
       "      <td>2021-09-25 16:45:00+00:00</td>\n",
       "    </tr>\n",
       "    <tr>\n",
       "      <th>6</th>\n",
       "      <td>2021-09-30 17:45:00+00:00</td>\n",
       "      <td>2021-09-30 20:00:00+00:00</td>\n",
       "    </tr>\n",
       "    <tr>\n",
       "      <th>7</th>\n",
       "      <td>2021-10-02 05:30:00+00:00</td>\n",
       "      <td>2021-10-02 08:00:00+00:00</td>\n",
       "    </tr>\n",
       "    <tr>\n",
       "      <th>8</th>\n",
       "      <td>2021-10-02 05:45:00+00:00</td>\n",
       "      <td>2021-10-02 08:00:00+00:00</td>\n",
       "    </tr>\n",
       "    <tr>\n",
       "      <th>9</th>\n",
       "      <td>2021-10-02 12:30:00+00:00</td>\n",
       "      <td>2021-10-02 14:00:00+00:00</td>\n",
       "    </tr>\n",
       "    <tr>\n",
       "      <th>10</th>\n",
       "      <td>2021-10-02 17:00:00+00:00</td>\n",
       "      <td>2021-10-02 23:00:00+00:00</td>\n",
       "    </tr>\n",
       "    <tr>\n",
       "      <th>11</th>\n",
       "      <td>2021-10-02 17:15:00+00:00</td>\n",
       "      <td>2021-10-02 23:00:00+00:00</td>\n",
       "    </tr>\n",
       "    <tr>\n",
       "      <th>12</th>\n",
       "      <td>2021-10-02 17:30:00+00:00</td>\n",
       "      <td>2021-10-02 23:00:00+00:00</td>\n",
       "    </tr>\n",
       "    <tr>\n",
       "      <th>13</th>\n",
       "      <td>2021-10-06 11:00:00+00:00</td>\n",
       "      <td>2021-10-06 14:30:00+00:00</td>\n",
       "    </tr>\n",
       "    <tr>\n",
       "      <th>14</th>\n",
       "      <td>2021-10-07 17:00:00+00:00</td>\n",
       "      <td>2021-10-08 10:00:00+00:00</td>\n",
       "    </tr>\n",
       "    <tr>\n",
       "      <th>15</th>\n",
       "      <td>2021-10-07 17:15:00+00:00</td>\n",
       "      <td>2021-10-08 10:00:00+00:00</td>\n",
       "    </tr>\n",
       "    <tr>\n",
       "      <th>16</th>\n",
       "      <td>2021-10-08 00:45:00+00:00</td>\n",
       "      <td>2021-10-08 10:00:00+00:00</td>\n",
       "    </tr>\n",
       "    <tr>\n",
       "      <th>17</th>\n",
       "      <td>2021-10-08 01:00:00+00:00</td>\n",
       "      <td>2021-10-08 10:00:00+00:00</td>\n",
       "    </tr>\n",
       "    <tr>\n",
       "      <th>18</th>\n",
       "      <td>2021-10-16 23:15:00+00:00</td>\n",
       "      <td>2021-10-17 02:30:00+00:00</td>\n",
       "    </tr>\n",
       "    <tr>\n",
       "      <th>19</th>\n",
       "      <td>2021-10-16 23:30:00+00:00</td>\n",
       "      <td>2021-10-17 02:30:00+00:00</td>\n",
       "    </tr>\n",
       "    <tr>\n",
       "      <th>20</th>\n",
       "      <td>2021-10-17 13:30:00+00:00</td>\n",
       "      <td>2021-10-18 02:30:00+00:00</td>\n",
       "    </tr>\n",
       "    <tr>\n",
       "      <th>21</th>\n",
       "      <td>2021-10-19 15:15:00+00:00</td>\n",
       "      <td>2021-10-20 09:30:00+00:00</td>\n",
       "    </tr>\n",
       "    <tr>\n",
       "      <th>22</th>\n",
       "      <td>2021-10-19 15:30:00+00:00</td>\n",
       "      <td>2021-10-20 09:30:00+00:00</td>\n",
       "    </tr>\n",
       "    <tr>\n",
       "      <th>23</th>\n",
       "      <td>2021-10-19 15:45:00+00:00</td>\n",
       "      <td>2021-10-20 09:30:00+00:00</td>\n",
       "    </tr>\n",
       "    <tr>\n",
       "      <th>24</th>\n",
       "      <td>2021-10-23 21:45:00+00:00</td>\n",
       "      <td>2021-10-24 22:15:00+00:00</td>\n",
       "    </tr>\n",
       "    <tr>\n",
       "      <th>25</th>\n",
       "      <td>2021-10-24 03:15:00+00:00</td>\n",
       "      <td>2021-10-24 22:15:00+00:00</td>\n",
       "    </tr>\n",
       "    <tr>\n",
       "      <th>26</th>\n",
       "      <td>2021-10-24 03:30:00+00:00</td>\n",
       "      <td>2021-10-24 22:15:00+00:00</td>\n",
       "    </tr>\n",
       "    <tr>\n",
       "      <th>27</th>\n",
       "      <td>2021-10-27 17:15:00+00:00</td>\n",
       "      <td>2021-10-28 03:45:00+00:00</td>\n",
       "    </tr>\n",
       "    <tr>\n",
       "      <th>28</th>\n",
       "      <td>2021-10-27 17:30:00+00:00</td>\n",
       "      <td>2021-10-28 03:45:00+00:00</td>\n",
       "    </tr>\n",
       "    <tr>\n",
       "      <th>29</th>\n",
       "      <td>2021-10-27 20:15:00+00:00</td>\n",
       "      <td>2021-10-28 03:45:00+00:00</td>\n",
       "    </tr>\n",
       "    <tr>\n",
       "      <th>30</th>\n",
       "      <td>2021-11-01 22:30:00+00:00</td>\n",
       "      <td>2021-11-02 02:30:00+00:00</td>\n",
       "    </tr>\n",
       "    <tr>\n",
       "      <th>31</th>\n",
       "      <td>2021-11-03 06:00:00+00:00</td>\n",
       "      <td>2021-11-03 22:15:00+00:00</td>\n",
       "    </tr>\n",
       "    <tr>\n",
       "      <th>32</th>\n",
       "      <td>2021-11-04 04:30:00+00:00</td>\n",
       "      <td>2021-11-04 22:45:00+00:00</td>\n",
       "    </tr>\n",
       "    <tr>\n",
       "      <th>33</th>\n",
       "      <td>2021-11-04 04:45:00+00:00</td>\n",
       "      <td>2021-11-04 22:45:00+00:00</td>\n",
       "    </tr>\n",
       "    <tr>\n",
       "      <th>34</th>\n",
       "      <td>2021-11-11 19:30:00+00:00</td>\n",
       "      <td>2021-11-11 20:45:00+00:00</td>\n",
       "    </tr>\n",
       "    <tr>\n",
       "      <th>35</th>\n",
       "      <td>2021-11-11 19:45:00+00:00</td>\n",
       "      <td>2021-11-11 20:45:00+00:00</td>\n",
       "    </tr>\n",
       "    <tr>\n",
       "      <th>36</th>\n",
       "      <td>2021-11-13 07:15:00+00:00</td>\n",
       "      <td>2021-11-13 09:00:00+00:00</td>\n",
       "    </tr>\n",
       "  </tbody>\n",
       "</table>\n",
       "</div>"
      ],
      "text/plain": [
       "                Buying_dates             Selling_dates\n",
       "0  2021-09-19 19:00:00+00:00 2021-09-19 19:30:00+00:00\n",
       "1  2021-09-21 06:15:00+00:00 2021-09-21 10:00:00+00:00\n",
       "2  2021-09-21 16:15:00+00:00 2021-09-22 04:45:00+00:00\n",
       "3  2021-09-25 13:30:00+00:00 2021-09-25 16:45:00+00:00\n",
       "4  2021-09-25 13:45:00+00:00 2021-09-25 16:45:00+00:00\n",
       "5  2021-09-25 14:00:00+00:00 2021-09-25 16:45:00+00:00\n",
       "6  2021-09-30 17:45:00+00:00 2021-09-30 20:00:00+00:00\n",
       "7  2021-10-02 05:30:00+00:00 2021-10-02 08:00:00+00:00\n",
       "8  2021-10-02 05:45:00+00:00 2021-10-02 08:00:00+00:00\n",
       "9  2021-10-02 12:30:00+00:00 2021-10-02 14:00:00+00:00\n",
       "10 2021-10-02 17:00:00+00:00 2021-10-02 23:00:00+00:00\n",
       "11 2021-10-02 17:15:00+00:00 2021-10-02 23:00:00+00:00\n",
       "12 2021-10-02 17:30:00+00:00 2021-10-02 23:00:00+00:00\n",
       "13 2021-10-06 11:00:00+00:00 2021-10-06 14:30:00+00:00\n",
       "14 2021-10-07 17:00:00+00:00 2021-10-08 10:00:00+00:00\n",
       "15 2021-10-07 17:15:00+00:00 2021-10-08 10:00:00+00:00\n",
       "16 2021-10-08 00:45:00+00:00 2021-10-08 10:00:00+00:00\n",
       "17 2021-10-08 01:00:00+00:00 2021-10-08 10:00:00+00:00\n",
       "18 2021-10-16 23:15:00+00:00 2021-10-17 02:30:00+00:00\n",
       "19 2021-10-16 23:30:00+00:00 2021-10-17 02:30:00+00:00\n",
       "20 2021-10-17 13:30:00+00:00 2021-10-18 02:30:00+00:00\n",
       "21 2021-10-19 15:15:00+00:00 2021-10-20 09:30:00+00:00\n",
       "22 2021-10-19 15:30:00+00:00 2021-10-20 09:30:00+00:00\n",
       "23 2021-10-19 15:45:00+00:00 2021-10-20 09:30:00+00:00\n",
       "24 2021-10-23 21:45:00+00:00 2021-10-24 22:15:00+00:00\n",
       "25 2021-10-24 03:15:00+00:00 2021-10-24 22:15:00+00:00\n",
       "26 2021-10-24 03:30:00+00:00 2021-10-24 22:15:00+00:00\n",
       "27 2021-10-27 17:15:00+00:00 2021-10-28 03:45:00+00:00\n",
       "28 2021-10-27 17:30:00+00:00 2021-10-28 03:45:00+00:00\n",
       "29 2021-10-27 20:15:00+00:00 2021-10-28 03:45:00+00:00\n",
       "30 2021-11-01 22:30:00+00:00 2021-11-02 02:30:00+00:00\n",
       "31 2021-11-03 06:00:00+00:00 2021-11-03 22:15:00+00:00\n",
       "32 2021-11-04 04:30:00+00:00 2021-11-04 22:45:00+00:00\n",
       "33 2021-11-04 04:45:00+00:00 2021-11-04 22:45:00+00:00\n",
       "34 2021-11-11 19:30:00+00:00 2021-11-11 20:45:00+00:00\n",
       "35 2021-11-11 19:45:00+00:00 2021-11-11 20:45:00+00:00\n",
       "36 2021-11-13 07:15:00+00:00 2021-11-13 09:00:00+00:00"
      ]
     },
     "execution_count": 311,
     "metadata": {},
     "output_type": "execute_result"
    }
   ],
   "source": [
    "frame # as you can see, there are overlapping buying dates, we will eliminate this buy check if the buying date is greater than the selling date of the previous row. "
   ]
  },
  {
   "cell_type": "code",
   "execution_count": 312,
   "metadata": {},
   "outputs": [],
   "source": [
    "actuals = frame[frame.Buying_dates > frame.Selling_dates.shift(1)]"
   ]
  },
  {
   "cell_type": "code",
   "execution_count": 313,
   "metadata": {},
   "outputs": [
    {
     "data": {
      "text/html": [
       "<div>\n",
       "<style scoped>\n",
       "    .dataframe tbody tr th:only-of-type {\n",
       "        vertical-align: middle;\n",
       "    }\n",
       "\n",
       "    .dataframe tbody tr th {\n",
       "        vertical-align: top;\n",
       "    }\n",
       "\n",
       "    .dataframe thead th {\n",
       "        text-align: right;\n",
       "    }\n",
       "</style>\n",
       "<table border=\"1\" class=\"dataframe\">\n",
       "  <thead>\n",
       "    <tr style=\"text-align: right;\">\n",
       "      <th></th>\n",
       "      <th>Buying_dates</th>\n",
       "      <th>Selling_dates</th>\n",
       "    </tr>\n",
       "  </thead>\n",
       "  <tbody>\n",
       "    <tr>\n",
       "      <th>1</th>\n",
       "      <td>2021-09-21 06:15:00+00:00</td>\n",
       "      <td>2021-09-21 10:00:00+00:00</td>\n",
       "    </tr>\n",
       "    <tr>\n",
       "      <th>2</th>\n",
       "      <td>2021-09-21 16:15:00+00:00</td>\n",
       "      <td>2021-09-22 04:45:00+00:00</td>\n",
       "    </tr>\n",
       "    <tr>\n",
       "      <th>3</th>\n",
       "      <td>2021-09-25 13:30:00+00:00</td>\n",
       "      <td>2021-09-25 16:45:00+00:00</td>\n",
       "    </tr>\n",
       "    <tr>\n",
       "      <th>6</th>\n",
       "      <td>2021-09-30 17:45:00+00:00</td>\n",
       "      <td>2021-09-30 20:00:00+00:00</td>\n",
       "    </tr>\n",
       "    <tr>\n",
       "      <th>7</th>\n",
       "      <td>2021-10-02 05:30:00+00:00</td>\n",
       "      <td>2021-10-02 08:00:00+00:00</td>\n",
       "    </tr>\n",
       "    <tr>\n",
       "      <th>9</th>\n",
       "      <td>2021-10-02 12:30:00+00:00</td>\n",
       "      <td>2021-10-02 14:00:00+00:00</td>\n",
       "    </tr>\n",
       "    <tr>\n",
       "      <th>10</th>\n",
       "      <td>2021-10-02 17:00:00+00:00</td>\n",
       "      <td>2021-10-02 23:00:00+00:00</td>\n",
       "    </tr>\n",
       "    <tr>\n",
       "      <th>13</th>\n",
       "      <td>2021-10-06 11:00:00+00:00</td>\n",
       "      <td>2021-10-06 14:30:00+00:00</td>\n",
       "    </tr>\n",
       "    <tr>\n",
       "      <th>14</th>\n",
       "      <td>2021-10-07 17:00:00+00:00</td>\n",
       "      <td>2021-10-08 10:00:00+00:00</td>\n",
       "    </tr>\n",
       "    <tr>\n",
       "      <th>18</th>\n",
       "      <td>2021-10-16 23:15:00+00:00</td>\n",
       "      <td>2021-10-17 02:30:00+00:00</td>\n",
       "    </tr>\n",
       "    <tr>\n",
       "      <th>20</th>\n",
       "      <td>2021-10-17 13:30:00+00:00</td>\n",
       "      <td>2021-10-18 02:30:00+00:00</td>\n",
       "    </tr>\n",
       "    <tr>\n",
       "      <th>21</th>\n",
       "      <td>2021-10-19 15:15:00+00:00</td>\n",
       "      <td>2021-10-20 09:30:00+00:00</td>\n",
       "    </tr>\n",
       "    <tr>\n",
       "      <th>24</th>\n",
       "      <td>2021-10-23 21:45:00+00:00</td>\n",
       "      <td>2021-10-24 22:15:00+00:00</td>\n",
       "    </tr>\n",
       "    <tr>\n",
       "      <th>27</th>\n",
       "      <td>2021-10-27 17:15:00+00:00</td>\n",
       "      <td>2021-10-28 03:45:00+00:00</td>\n",
       "    </tr>\n",
       "    <tr>\n",
       "      <th>30</th>\n",
       "      <td>2021-11-01 22:30:00+00:00</td>\n",
       "      <td>2021-11-02 02:30:00+00:00</td>\n",
       "    </tr>\n",
       "    <tr>\n",
       "      <th>31</th>\n",
       "      <td>2021-11-03 06:00:00+00:00</td>\n",
       "      <td>2021-11-03 22:15:00+00:00</td>\n",
       "    </tr>\n",
       "    <tr>\n",
       "      <th>32</th>\n",
       "      <td>2021-11-04 04:30:00+00:00</td>\n",
       "      <td>2021-11-04 22:45:00+00:00</td>\n",
       "    </tr>\n",
       "    <tr>\n",
       "      <th>34</th>\n",
       "      <td>2021-11-11 19:30:00+00:00</td>\n",
       "      <td>2021-11-11 20:45:00+00:00</td>\n",
       "    </tr>\n",
       "    <tr>\n",
       "      <th>36</th>\n",
       "      <td>2021-11-13 07:15:00+00:00</td>\n",
       "      <td>2021-11-13 09:00:00+00:00</td>\n",
       "    </tr>\n",
       "  </tbody>\n",
       "</table>\n",
       "</div>"
      ],
      "text/plain": [
       "                Buying_dates             Selling_dates\n",
       "1  2021-09-21 06:15:00+00:00 2021-09-21 10:00:00+00:00\n",
       "2  2021-09-21 16:15:00+00:00 2021-09-22 04:45:00+00:00\n",
       "3  2021-09-25 13:30:00+00:00 2021-09-25 16:45:00+00:00\n",
       "6  2021-09-30 17:45:00+00:00 2021-09-30 20:00:00+00:00\n",
       "7  2021-10-02 05:30:00+00:00 2021-10-02 08:00:00+00:00\n",
       "9  2021-10-02 12:30:00+00:00 2021-10-02 14:00:00+00:00\n",
       "10 2021-10-02 17:00:00+00:00 2021-10-02 23:00:00+00:00\n",
       "13 2021-10-06 11:00:00+00:00 2021-10-06 14:30:00+00:00\n",
       "14 2021-10-07 17:00:00+00:00 2021-10-08 10:00:00+00:00\n",
       "18 2021-10-16 23:15:00+00:00 2021-10-17 02:30:00+00:00\n",
       "20 2021-10-17 13:30:00+00:00 2021-10-18 02:30:00+00:00\n",
       "21 2021-10-19 15:15:00+00:00 2021-10-20 09:30:00+00:00\n",
       "24 2021-10-23 21:45:00+00:00 2021-10-24 22:15:00+00:00\n",
       "27 2021-10-27 17:15:00+00:00 2021-10-28 03:45:00+00:00\n",
       "30 2021-11-01 22:30:00+00:00 2021-11-02 02:30:00+00:00\n",
       "31 2021-11-03 06:00:00+00:00 2021-11-03 22:15:00+00:00\n",
       "32 2021-11-04 04:30:00+00:00 2021-11-04 22:45:00+00:00\n",
       "34 2021-11-11 19:30:00+00:00 2021-11-11 20:45:00+00:00\n",
       "36 2021-11-13 07:15:00+00:00 2021-11-13 09:00:00+00:00"
      ]
     },
     "execution_count": 313,
     "metadata": {},
     "output_type": "execute_result"
    }
   ],
   "source": [
    "actuals"
   ]
  },
  {
   "cell_type": "code",
   "execution_count": 314,
   "metadata": {},
   "outputs": [],
   "source": [
    "def profitcalc():\n",
    "    Buyprices = df.loc[actuals.Buying_dates].Open\n",
    "    Sellprices = df.loc[actuals.Selling_dates].Open\n",
    "    return (Sellprices.values - Buyprices.values)/Buyprices.values"
   ]
  },
  {
   "cell_type": "code",
   "execution_count": 315,
   "metadata": {},
   "outputs": [],
   "source": [
    "profits = profitcalc()"
   ]
  },
  {
   "cell_type": "code",
   "execution_count": 316,
   "metadata": {},
   "outputs": [
    {
     "data": {
      "text/plain": [
       "array([ 0.01042759, -0.02611487, -0.00227127,  0.00660168, -0.00025817,\n",
       "        0.00170249,  0.00140252,  0.05761292,  0.01974402, -0.000432  ,\n",
       "        0.01445667,  0.02033353, -0.00534113, -0.0055937 ,  0.00218312,\n",
       "       -0.00186714, -0.02134577,  0.00027348, -0.00061206])"
      ]
     },
     "execution_count": 316,
     "metadata": {},
     "output_type": "execute_result"
    }
   ],
   "source": [
    "profits"
   ]
  },
  {
   "cell_type": "code",
   "execution_count": 317,
   "metadata": {},
   "outputs": [
    {
     "data": {
      "text/plain": [
       "0.003731678829556066"
      ]
     },
     "execution_count": 317,
     "metadata": {},
     "output_type": "execute_result"
    }
   ],
   "source": [
    "profits.mean() "
   ]
  },
  {
   "cell_type": "code",
   "execution_count": 318,
   "metadata": {},
   "outputs": [
    {
     "data": {
      "text/plain": [
       "1.0704832386753385"
      ]
     },
     "execution_count": 318,
     "metadata": {},
     "output_type": "execute_result"
    }
   ],
   "source": [
    "(profits +1).prod()"
   ]
  },
  {
   "cell_type": "markdown",
   "metadata": {},
   "source": [
    "### Visualization with matplotlib"
   ]
  },
  {
   "cell_type": "code",
   "execution_count": 319,
   "metadata": {},
   "outputs": [],
   "source": [
    "import matplotlib.pyplot as plt \n"
   ]
  },
  {
   "cell_type": "code",
   "execution_count": 320,
   "metadata": {},
   "outputs": [
    {
     "data": {
      "image/png": "[encoded data removed]",
      "text/plain": [
       "<Figure size 1440x720 with 1 Axes>"
      ]
     },
     "metadata": {
      "needs_background": "light"
     },
     "output_type": "display_data"
    }
   ],
   "source": [
    "plt.figure(figsize=(20,10))\n",
    "plt.plot(df.Close, color='k',alpha=0.7)\n",
    "plt.scatter(actuals.Buying_dates, df.Open[actuals.Buying_dates], marker='^', color='g', s=500)\n",
    "plt.scatter(actuals.Selling_dates, df.Open[actuals.Selling_dates], marker='v', color='r', s=500)\n",
    "plt.title(label= 'BNB-USD',fontsize=25)\n",
    "plt.ylabel(ylabel= 'Price (USD)', fontsize=15)\n",
    "plt.xlabel(xlabel='Date', fontsize=15)\n",
    "plt.show()"
   ]
  }
 ],
 "metadata": {
  "interpreter": {
   "hash": "35bb31b06ee2a22ff081d9deaa83ac49e749339a652906ee59ebb4588edc2a3c"
  },
  "kernelspec": {
   "display_name": "Python 3.9.5 64-bit ('base': conda)",
   "language": "python",
   "name": "python3"
  },
  "language_info": {
   "codemirror_mode": {
    "name": "ipython",
    "version": 3
   },
   "file_extension": ".py",
   "mimetype": "text/x-python",
   "name": "python",
   "nbconvert_exporter": "python",
   "pygments_lexer": "ipython3",
   "version": "3.9.8"
  },
  "orig_nbformat": 4
 },
 "nbformat": 4,
 "nbformat_minor": 2
}
