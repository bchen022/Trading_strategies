{
 "cells": [
  {
   "cell_type": "markdown",
   "metadata": {},
   "source": [
    "# Backtesting Data Trader's Stochastic + RSI + MACD trading strategy \n",
    "### here is the link to his video : https://www.youtube.com/watch?v=hh3BKTFE1dc"
   ]
  },
  {
   "cell_type": "markdown",
   "metadata": {},
   "source": [
    "### Buying conditions: stochastic - Both K and D line should be above 20 and below 80. If K and D line both hit below 20 (Buy signal)\n",
    "###                    RSI - above 50 \n",
    "###                    MACD line should be above signal line, so difference between MACD and signal line should be positive\n",
    "### Selling condition: K and KD line should be between 20 and 80. If K and D line hit above 80 (Sell signal)\n",
    "###                    RSI should be below 50 \n",
    "###                    Signal line crosses to go below the MACD line, so difference between MACD and signal line should be negative"
   ]
  },
  {
   "cell_type": "code",
   "execution_count": 134,
   "metadata": {},
   "outputs": [
    {
     "name": "stdout",
     "output_type": "stream",
     "text": [
      "Requirement already satisfied: ta in c:\\users\\b5-chen\\appdata\\local\\packages\\pythonsoftwarefoundation.python.3.9_qbz5n2kfra8p0\\localcache\\local-packages\\python39\\site-packages (0.7.0)\n",
      "Requirement already satisfied: numpy in c:\\users\\b5-chen\\appdata\\local\\packages\\pythonsoftwarefoundation.python.3.9_qbz5n2kfra8p0\\localcache\\local-packages\\python39\\site-packages (from ta) (1.21.3)\n",
      "Requirement already satisfied: pandas in c:\\users\\b5-chen\\appdata\\local\\packages\\pythonsoftwarefoundation.python.3.9_qbz5n2kfra8p0\\localcache\\local-packages\\python39\\site-packages (from ta) (1.3.4)\n",
      "Requirement already satisfied: pytz>=2017.3 in c:\\users\\b5-chen\\appdata\\local\\packages\\pythonsoftwarefoundation.python.3.9_qbz5n2kfra8p0\\localcache\\local-packages\\python39\\site-packages (from pandas->ta) (2021.3)\n",
      "Requirement already satisfied: python-dateutil>=2.7.3 in c:\\users\\b5-chen\\appdata\\local\\packages\\pythonsoftwarefoundation.python.3.9_qbz5n2kfra8p0\\localcache\\local-packages\\python39\\site-packages (from pandas->ta) (2.8.2)\n",
      "Requirement already satisfied: six>=1.5 in c:\\users\\b5-chen\\appdata\\local\\packages\\pythonsoftwarefoundation.python.3.9_qbz5n2kfra8p0\\localcache\\local-packages\\python39\\site-packages (from python-dateutil>=2.7.3->pandas->ta) (1.16.0)\n"
     ]
    }
   ],
   "source": [
    "!pip install ta"
   ]
  },
  {
   "cell_type": "code",
   "execution_count": 135,
   "metadata": {},
   "outputs": [
    {
     "name": "stdout",
     "output_type": "stream",
     "text": [
      "Requirement already satisfied: yfinance in c:\\users\\b5-chen\\appdata\\local\\packages\\pythonsoftwarefoundation.python.3.9_qbz5n2kfra8p0\\localcache\\local-packages\\python39\\site-packages (0.1.64)\n",
      "Requirement already satisfied: pandas>=0.24 in c:\\users\\b5-chen\\appdata\\local\\packages\\pythonsoftwarefoundation.python.3.9_qbz5n2kfra8p0\\localcache\\local-packages\\python39\\site-packages (from yfinance) (1.3.4)\n",
      "Requirement already satisfied: numpy>=1.15 in c:\\users\\b5-chen\\appdata\\local\\packages\\pythonsoftwarefoundation.python.3.9_qbz5n2kfra8p0\\localcache\\local-packages\\python39\\site-packages (from yfinance) (1.21.3)\n",
      "Requirement already satisfied: requests>=2.20 in c:\\users\\b5-chen\\appdata\\local\\packages\\pythonsoftwarefoundation.python.3.9_qbz5n2kfra8p0\\localcache\\local-packages\\python39\\site-packages (from yfinance) (2.26.0)\n",
      "Requirement already satisfied: multitasking>=0.0.7 in c:\\users\\b5-chen\\appdata\\local\\packages\\pythonsoftwarefoundation.python.3.9_qbz5n2kfra8p0\\localcache\\local-packages\\python39\\site-packages (from yfinance) (0.0.9)\n",
      "Requirement already satisfied: lxml>=4.5.1 in c:\\users\\b5-chen\\appdata\\local\\packages\\pythonsoftwarefoundation.python.3.9_qbz5n2kfra8p0\\localcache\\local-packages\\python39\\site-packages (from yfinance) (4.6.4)\n",
      "Requirement already satisfied: python-dateutil>=2.7.3 in c:\\users\\b5-chen\\appdata\\local\\packages\\pythonsoftwarefoundation.python.3.9_qbz5n2kfra8p0\\localcache\\local-packages\\python39\\site-packages (from pandas>=0.24->yfinance) (2.8.2)\n",
      "Requirement already satisfied: pytz>=2017.3 in c:\\users\\b5-chen\\appdata\\local\\packages\\pythonsoftwarefoundation.python.3.9_qbz5n2kfra8p0\\localcache\\local-packages\\python39\\site-packages (from pandas>=0.24->yfinance) (2021.3)\n",
      "Requirement already satisfied: certifi>=2017.4.17 in c:\\users\\b5-chen\\appdata\\local\\packages\\pythonsoftwarefoundation.python.3.9_qbz5n2kfra8p0\\localcache\\local-packages\\python39\\site-packages (from requests>=2.20->yfinance) (2021.10.8)\n",
      "Requirement already satisfied: idna<4,>=2.5 in c:\\users\\b5-chen\\appdata\\local\\packages\\pythonsoftwarefoundation.python.3.9_qbz5n2kfra8p0\\localcache\\local-packages\\python39\\site-packages (from requests>=2.20->yfinance) (3.3)\n",
      "Requirement already satisfied: urllib3<1.27,>=1.21.1 in c:\\users\\b5-chen\\appdata\\local\\packages\\pythonsoftwarefoundation.python.3.9_qbz5n2kfra8p0\\localcache\\local-packages\\python39\\site-packages (from requests>=2.20->yfinance) (1.26.7)\n",
      "Requirement already satisfied: charset-normalizer~=2.0.0 in c:\\users\\b5-chen\\appdata\\local\\packages\\pythonsoftwarefoundation.python.3.9_qbz5n2kfra8p0\\localcache\\local-packages\\python39\\site-packages (from requests>=2.20->yfinance) (2.0.7)\n",
      "Requirement already satisfied: six>=1.5 in c:\\users\\b5-chen\\appdata\\local\\packages\\pythonsoftwarefoundation.python.3.9_qbz5n2kfra8p0\\localcache\\local-packages\\python39\\site-packages (from python-dateutil>=2.7.3->pandas>=0.24->yfinance) (1.16.0)\n"
     ]
    }
   ],
   "source": [
    "!pip install yfinance"
   ]
  },
  {
   "cell_type": "code",
   "execution_count": 136,
   "metadata": {},
   "outputs": [],
   "source": [
    "\n",
    "import yfinance as yf\n",
    "import numpy as np \n",
    "import ta\n",
    "import pandas as pd"
   ]
  },
  {
   "cell_type": "code",
   "execution_count": 137,
   "metadata": {},
   "outputs": [
    {
     "name": "stdout",
     "output_type": "stream",
     "text": [
      "[*********************100%***********************]  1 of 1 completed\n"
     ]
    }
   ],
   "source": [
    "# we chose a 30 minute interval here, but you may play around with the arguments\n",
    "df = yf.download('BTC-USD', start='2021-09-28', interval='30m') "
   ]
  },
  {
   "cell_type": "code",
   "execution_count": 138,
   "metadata": {},
   "outputs": [],
   "source": [
    "# Now I will calculate the technical indicators \n",
    "df['%K'] = ta.momentum.stoch(df.High, df.Low, df.Close, window=14, smooth_window=3)"
   ]
  },
  {
   "cell_type": "code",
   "execution_count": 139,
   "metadata": {},
   "outputs": [],
   "source": [
    "df['%D'] = df['%K'].rolling(3).mean()"
   ]
  },
  {
   "cell_type": "code",
   "execution_count": 140,
   "metadata": {},
   "outputs": [],
   "source": [
    "df['rsi'] = ta.momentum.rsi(df.Close, window=14)"
   ]
  },
  {
   "cell_type": "code",
   "execution_count": 141,
   "metadata": {},
   "outputs": [],
   "source": [
    "df['macd']= ta.trend.macd_diff(df.Close) "
   ]
  },
  {
   "cell_type": "code",
   "execution_count": 142,
   "metadata": {},
   "outputs": [
    {
     "data": {
      "text/html": [
       "<div>\n",
       "<style scoped>\n",
       "    .dataframe tbody tr th:only-of-type {\n",
       "        vertical-align: middle;\n",
       "    }\n",
       "\n",
       "    .dataframe tbody tr th {\n",
       "        vertical-align: top;\n",
       "    }\n",
       "\n",
       "    .dataframe thead th {\n",
       "        text-align: right;\n",
       "    }\n",
       "</style>\n",
       "<table border=\"1\" class=\"dataframe\">\n",
       "  <thead>\n",
       "    <tr style=\"text-align: right;\">\n",
       "      <th></th>\n",
       "      <th>Open</th>\n",
       "      <th>High</th>\n",
       "      <th>Low</th>\n",
       "      <th>Close</th>\n",
       "      <th>Adj Close</th>\n",
       "      <th>Volume</th>\n",
       "      <th>%K</th>\n",
       "      <th>%D</th>\n",
       "      <th>rsi</th>\n",
       "      <th>macd</th>\n",
       "    </tr>\n",
       "    <tr>\n",
       "      <th>Datetime</th>\n",
       "      <th></th>\n",
       "      <th></th>\n",
       "      <th></th>\n",
       "      <th></th>\n",
       "      <th></th>\n",
       "      <th></th>\n",
       "      <th></th>\n",
       "      <th></th>\n",
       "      <th></th>\n",
       "      <th></th>\n",
       "    </tr>\n",
       "  </thead>\n",
       "  <tbody>\n",
       "    <tr>\n",
       "      <th>2021-09-27 23:00:00+00:00</th>\n",
       "      <td>43187.914062</td>\n",
       "      <td>43237.425781</td>\n",
       "      <td>42830.820312</td>\n",
       "      <td>42830.820312</td>\n",
       "      <td>42830.820312</td>\n",
       "      <td>5892096</td>\n",
       "      <td>NaN</td>\n",
       "      <td>NaN</td>\n",
       "      <td>NaN</td>\n",
       "      <td>NaN</td>\n",
       "    </tr>\n",
       "    <tr>\n",
       "      <th>2021-09-27 23:30:00+00:00</th>\n",
       "      <td>42823.460938</td>\n",
       "      <td>42823.460938</td>\n",
       "      <td>42190.632812</td>\n",
       "      <td>42388.109375</td>\n",
       "      <td>42388.109375</td>\n",
       "      <td>228964352</td>\n",
       "      <td>NaN</td>\n",
       "      <td>NaN</td>\n",
       "      <td>NaN</td>\n",
       "      <td>NaN</td>\n",
       "    </tr>\n",
       "    <tr>\n",
       "      <th>2021-09-28 00:00:00+00:00</th>\n",
       "      <td>42200.898438</td>\n",
       "      <td>42385.390625</td>\n",
       "      <td>42098.968750</td>\n",
       "      <td>42278.140625</td>\n",
       "      <td>42278.140625</td>\n",
       "      <td>482641920</td>\n",
       "      <td>NaN</td>\n",
       "      <td>NaN</td>\n",
       "      <td>NaN</td>\n",
       "      <td>NaN</td>\n",
       "    </tr>\n",
       "    <tr>\n",
       "      <th>2021-09-28 00:30:00+00:00</th>\n",
       "      <td>42290.203125</td>\n",
       "      <td>42426.753906</td>\n",
       "      <td>42216.179688</td>\n",
       "      <td>42292.714844</td>\n",
       "      <td>42292.714844</td>\n",
       "      <td>126466048</td>\n",
       "      <td>NaN</td>\n",
       "      <td>NaN</td>\n",
       "      <td>NaN</td>\n",
       "      <td>NaN</td>\n",
       "    </tr>\n",
       "    <tr>\n",
       "      <th>2021-09-28 01:00:00+00:00</th>\n",
       "      <td>42329.019531</td>\n",
       "      <td>42329.019531</td>\n",
       "      <td>42180.429688</td>\n",
       "      <td>42223.343750</td>\n",
       "      <td>42223.343750</td>\n",
       "      <td>101095424</td>\n",
       "      <td>NaN</td>\n",
       "      <td>NaN</td>\n",
       "      <td>NaN</td>\n",
       "      <td>NaN</td>\n",
       "    </tr>\n",
       "  </tbody>\n",
       "</table>\n",
       "</div>"
      ],
      "text/plain": [
       "                                   Open          High           Low  \\\n",
       "Datetime                                                              \n",
       "2021-09-27 23:00:00+00:00  43187.914062  43237.425781  42830.820312   \n",
       "2021-09-27 23:30:00+00:00  42823.460938  42823.460938  42190.632812   \n",
       "2021-09-28 00:00:00+00:00  42200.898438  42385.390625  42098.968750   \n",
       "2021-09-28 00:30:00+00:00  42290.203125  42426.753906  42216.179688   \n",
       "2021-09-28 01:00:00+00:00  42329.019531  42329.019531  42180.429688   \n",
       "\n",
       "                                  Close     Adj Close     Volume  %K  %D  rsi  \\\n",
       "Datetime                                                                        \n",
       "2021-09-27 23:00:00+00:00  42830.820312  42830.820312    5892096 NaN NaN  NaN   \n",
       "2021-09-27 23:30:00+00:00  42388.109375  42388.109375  228964352 NaN NaN  NaN   \n",
       "2021-09-28 00:00:00+00:00  42278.140625  42278.140625  482641920 NaN NaN  NaN   \n",
       "2021-09-28 00:30:00+00:00  42292.714844  42292.714844  126466048 NaN NaN  NaN   \n",
       "2021-09-28 01:00:00+00:00  42223.343750  42223.343750  101095424 NaN NaN  NaN   \n",
       "\n",
       "                           macd  \n",
       "Datetime                         \n",
       "2021-09-27 23:00:00+00:00   NaN  \n",
       "2021-09-27 23:30:00+00:00   NaN  \n",
       "2021-09-28 00:00:00+00:00   NaN  \n",
       "2021-09-28 00:30:00+00:00   NaN  \n",
       "2021-09-28 01:00:00+00:00   NaN  "
      ]
     },
     "execution_count": 142,
     "metadata": {},
     "output_type": "execute_result"
    }
   ],
   "source": [
    "df.head()"
   ]
  },
  {
   "cell_type": "code",
   "execution_count": 143,
   "metadata": {},
   "outputs": [],
   "source": [
    "#drop NaN\n",
    "df.dropna(inplace=True)"
   ]
  },
  {
   "cell_type": "code",
   "execution_count": 144,
   "metadata": {},
   "outputs": [],
   "source": [
    "df2 = pd.DataFrame()\n",
    "for i in range(1,4): # this is 3 lags\n",
    "    mask = (df['%K'].shift(i) < 25) & (df['%D'].shift(i) < 25)\n",
    "    df2 = df2.append(mask, ignore_index=True)"
   ]
  },
  {
   "cell_type": "code",
   "execution_count": 145,
   "metadata": {},
   "outputs": [
    {
     "data": {
      "text/plain": [
       "2021-09-28 15:30:00+00:00    0.0\n",
       "2021-09-28 16:00:00+00:00    1.0\n",
       "2021-09-28 16:30:00+00:00    2.0\n",
       "2021-09-28 17:00:00+00:00    3.0\n",
       "2021-09-28 17:30:00+00:00    3.0\n",
       "                            ... \n",
       "2021-11-24 11:30:00+00:00    0.0\n",
       "2021-11-24 12:00:00+00:00    0.0\n",
       "2021-11-24 12:30:00+00:00    0.0\n",
       "2021-11-24 13:00:00+00:00    0.0\n",
       "2021-11-24 13:30:00+00:00    0.0\n",
       "Length: 2732, dtype: float64"
      ]
     },
     "execution_count": 145,
     "metadata": {},
     "output_type": "execute_result"
    }
   ],
   "source": [
    "# this is the buy signal, it chekcs if there is a cross within the last 3 days, so if the vertical sum is above 0 we have a buying signal.\n",
    "df2.head()\n",
    "df2.sum(axis=0)"
   ]
  },
  {
   "cell_type": "markdown",
   "metadata": {},
   "source": [
    "## Then we can put everything into a function."
   ]
  },
  {
   "cell_type": "code",
   "execution_count": 146,
   "metadata": {},
   "outputs": [],
   "source": [
    "\n",
    "def gettriggers(df, lags, buy=True):\n",
    "    df2 = pd.DataFrame()\n",
    "    for i in range(1, lags+1):\n",
    "        if buy:\n",
    "            mask= (df['%K'].shift(i) < 25) & (df['%D'].shift(i) < 25)\n",
    "        else: \n",
    "            mask= (df['%K'].shift(i) > 75) & (df['%D'].shift(i) > 75)\n",
    "        df2 = df2.append(mask,ignore_index=True)\n",
    "    return df2.sum(axis=0)\n"
   ]
  },
  {
   "cell_type": "code",
   "execution_count": 147,
   "metadata": {},
   "outputs": [
    {
     "data": {
      "text/html": [
       "<div>\n",
       "<style scoped>\n",
       "    .dataframe tbody tr th:only-of-type {\n",
       "        vertical-align: middle;\n",
       "    }\n",
       "\n",
       "    .dataframe tbody tr th {\n",
       "        vertical-align: top;\n",
       "    }\n",
       "\n",
       "    .dataframe thead th {\n",
       "        text-align: right;\n",
       "    }\n",
       "</style>\n",
       "<table border=\"1\" class=\"dataframe\">\n",
       "  <thead>\n",
       "    <tr style=\"text-align: right;\">\n",
       "      <th></th>\n",
       "      <th>2021-09-28 15:30:00+00:00</th>\n",
       "      <th>2021-09-28 16:00:00+00:00</th>\n",
       "      <th>2021-09-28 16:30:00+00:00</th>\n",
       "      <th>2021-09-28 17:00:00+00:00</th>\n",
       "      <th>2021-09-28 17:30:00+00:00</th>\n",
       "      <th>2021-09-28 18:00:00+00:00</th>\n",
       "      <th>2021-09-28 18:30:00+00:00</th>\n",
       "      <th>2021-09-28 19:00:00+00:00</th>\n",
       "      <th>2021-09-28 19:30:00+00:00</th>\n",
       "      <th>2021-09-28 20:00:00+00:00</th>\n",
       "      <th>...</th>\n",
       "      <th>2021-11-24 09:00:00+00:00</th>\n",
       "      <th>2021-11-24 09:30:00+00:00</th>\n",
       "      <th>2021-11-24 10:00:00+00:00</th>\n",
       "      <th>2021-11-24 10:30:00+00:00</th>\n",
       "      <th>2021-11-24 11:00:00+00:00</th>\n",
       "      <th>2021-11-24 11:30:00+00:00</th>\n",
       "      <th>2021-11-24 12:00:00+00:00</th>\n",
       "      <th>2021-11-24 12:30:00+00:00</th>\n",
       "      <th>2021-11-24 13:00:00+00:00</th>\n",
       "      <th>2021-11-24 13:30:00+00:00</th>\n",
       "    </tr>\n",
       "  </thead>\n",
       "  <tbody>\n",
       "    <tr>\n",
       "      <th>0</th>\n",
       "      <td>0.0</td>\n",
       "      <td>1.0</td>\n",
       "      <td>1.0</td>\n",
       "      <td>1.0</td>\n",
       "      <td>1.0</td>\n",
       "      <td>1.0</td>\n",
       "      <td>0.0</td>\n",
       "      <td>0.0</td>\n",
       "      <td>0.0</td>\n",
       "      <td>0.0</td>\n",
       "      <td>...</td>\n",
       "      <td>0.0</td>\n",
       "      <td>0.0</td>\n",
       "      <td>0.0</td>\n",
       "      <td>0.0</td>\n",
       "      <td>0.0</td>\n",
       "      <td>0.0</td>\n",
       "      <td>0.0</td>\n",
       "      <td>0.0</td>\n",
       "      <td>0.0</td>\n",
       "      <td>0.0</td>\n",
       "    </tr>\n",
       "    <tr>\n",
       "      <th>1</th>\n",
       "      <td>0.0</td>\n",
       "      <td>0.0</td>\n",
       "      <td>1.0</td>\n",
       "      <td>1.0</td>\n",
       "      <td>1.0</td>\n",
       "      <td>1.0</td>\n",
       "      <td>1.0</td>\n",
       "      <td>0.0</td>\n",
       "      <td>0.0</td>\n",
       "      <td>0.0</td>\n",
       "      <td>...</td>\n",
       "      <td>0.0</td>\n",
       "      <td>0.0</td>\n",
       "      <td>0.0</td>\n",
       "      <td>0.0</td>\n",
       "      <td>0.0</td>\n",
       "      <td>0.0</td>\n",
       "      <td>0.0</td>\n",
       "      <td>0.0</td>\n",
       "      <td>0.0</td>\n",
       "      <td>0.0</td>\n",
       "    </tr>\n",
       "    <tr>\n",
       "      <th>2</th>\n",
       "      <td>0.0</td>\n",
       "      <td>0.0</td>\n",
       "      <td>0.0</td>\n",
       "      <td>1.0</td>\n",
       "      <td>1.0</td>\n",
       "      <td>1.0</td>\n",
       "      <td>1.0</td>\n",
       "      <td>1.0</td>\n",
       "      <td>0.0</td>\n",
       "      <td>0.0</td>\n",
       "      <td>...</td>\n",
       "      <td>1.0</td>\n",
       "      <td>0.0</td>\n",
       "      <td>0.0</td>\n",
       "      <td>0.0</td>\n",
       "      <td>0.0</td>\n",
       "      <td>0.0</td>\n",
       "      <td>0.0</td>\n",
       "      <td>0.0</td>\n",
       "      <td>0.0</td>\n",
       "      <td>0.0</td>\n",
       "    </tr>\n",
       "  </tbody>\n",
       "</table>\n",
       "<p>3 rows × 2732 columns</p>\n",
       "</div>"
      ],
      "text/plain": [
       "   2021-09-28 15:30:00+00:00  2021-09-28 16:00:00+00:00  \\\n",
       "0                        0.0                        1.0   \n",
       "1                        0.0                        0.0   \n",
       "2                        0.0                        0.0   \n",
       "\n",
       "   2021-09-28 16:30:00+00:00  2021-09-28 17:00:00+00:00  \\\n",
       "0                        1.0                        1.0   \n",
       "1                        1.0                        1.0   \n",
       "2                        0.0                        1.0   \n",
       "\n",
       "   2021-09-28 17:30:00+00:00  2021-09-28 18:00:00+00:00  \\\n",
       "0                        1.0                        1.0   \n",
       "1                        1.0                        1.0   \n",
       "2                        1.0                        1.0   \n",
       "\n",
       "   2021-09-28 18:30:00+00:00  2021-09-28 19:00:00+00:00  \\\n",
       "0                        0.0                        0.0   \n",
       "1                        1.0                        0.0   \n",
       "2                        1.0                        1.0   \n",
       "\n",
       "   2021-09-28 19:30:00+00:00  2021-09-28 20:00:00+00:00  ...  \\\n",
       "0                        0.0                        0.0  ...   \n",
       "1                        0.0                        0.0  ...   \n",
       "2                        0.0                        0.0  ...   \n",
       "\n",
       "   2021-11-24 09:00:00+00:00  2021-11-24 09:30:00+00:00  \\\n",
       "0                        0.0                        0.0   \n",
       "1                        0.0                        0.0   \n",
       "2                        1.0                        0.0   \n",
       "\n",
       "   2021-11-24 10:00:00+00:00  2021-11-24 10:30:00+00:00  \\\n",
       "0                        0.0                        0.0   \n",
       "1                        0.0                        0.0   \n",
       "2                        0.0                        0.0   \n",
       "\n",
       "   2021-11-24 11:00:00+00:00  2021-11-24 11:30:00+00:00  \\\n",
       "0                        0.0                        0.0   \n",
       "1                        0.0                        0.0   \n",
       "2                        0.0                        0.0   \n",
       "\n",
       "   2021-11-24 12:00:00+00:00  2021-11-24 12:30:00+00:00  \\\n",
       "0                        0.0                        0.0   \n",
       "1                        0.0                        0.0   \n",
       "2                        0.0                        0.0   \n",
       "\n",
       "   2021-11-24 13:00:00+00:00  2021-11-24 13:30:00+00:00  \n",
       "0                        0.0                        0.0  \n",
       "1                        0.0                        0.0  \n",
       "2                        0.0                        0.0  \n",
       "\n",
       "[3 rows x 2732 columns]"
      ]
     },
     "execution_count": 147,
     "metadata": {},
     "output_type": "execute_result"
    }
   ],
   "source": [
    "df2.head()"
   ]
  },
  {
   "cell_type": "code",
   "execution_count": 148,
   "metadata": {},
   "outputs": [],
   "source": [
    "df['Buytrigger'] = np.where(gettriggers(df, 4),1,0) # if we get a buy signal (sum is larger than 0) we get a 1, if we dont we get a 0."
   ]
  },
  {
   "cell_type": "code",
   "execution_count": 149,
   "metadata": {},
   "outputs": [],
   "source": [
    "df['Selltrigger'] = np.where(gettriggers(df,4, False),1,0)"
   ]
  },
  {
   "cell_type": "code",
   "execution_count": 150,
   "metadata": {},
   "outputs": [],
   "source": [
    "df['Buy'] = np.where((df.Buytrigger) & (df[\"%K\"].between(25,75)) & (df[\"%D\"].between(25,75)) & (df.rsi<50) & (df.macd > 0),1,0)"
   ]
  },
  {
   "cell_type": "code",
   "execution_count": 151,
   "metadata": {},
   "outputs": [],
   "source": [
    "df['Sell'] = np.where((df.Selltrigger) & (df['%K'].between(25,75)) & (df['%D'].between(25,75)) & (df.rsi>50) & (df.macd > 0),1,0)"
   ]
  },
  {
   "cell_type": "code",
   "execution_count": 152,
   "metadata": {},
   "outputs": [],
   "source": [
    "Buying_dates, Selling_dates = [], []"
   ]
  },
  {
   "cell_type": "code",
   "execution_count": 153,
   "metadata": {},
   "outputs": [],
   "source": [
    "for i in range(len(df) - 1): \n",
    "    if df.Buy.iloc[i]: # checking if each row has a buy signal\n",
    "        Buying_dates.append(df.iloc[i +1].name) # if condition is met, you buy at the next timepoint (next row)\n",
    "        for num,j in enumerate(df.Sell[i:]): # checking from the buying date if the selling conditions are fulfilled.\n",
    "            if j: # j is the signal if its 1 or 0 \n",
    "                Selling_dates.append(df.iloc[i + num + 1].name) # i + num because num is the number of iterations.\n",
    "                break"
   ]
  },
  {
   "cell_type": "code",
   "execution_count": 154,
   "metadata": {},
   "outputs": [],
   "source": [
    "cutoff =len(Buying_dates) - len(Selling_dates)"
   ]
  },
  {
   "cell_type": "code",
   "execution_count": 155,
   "metadata": {},
   "outputs": [],
   "source": [
    "if cutoff:\n",
    "    Buying_dates = Buying_dates[:-cutoff] # removing the buying dates if the selling conditions have not been fulfilled."
   ]
  },
  {
   "cell_type": "code",
   "execution_count": 156,
   "metadata": {},
   "outputs": [],
   "source": [
    "frame = pd.DataFrame({'Buying_dates':Buying_dates, 'Selling_dates': Selling_dates})"
   ]
  },
  {
   "cell_type": "code",
   "execution_count": 157,
   "metadata": {},
   "outputs": [
    {
     "data": {
      "text/html": [
       "<div>\n",
       "<style scoped>\n",
       "    .dataframe tbody tr th:only-of-type {\n",
       "        vertical-align: middle;\n",
       "    }\n",
       "\n",
       "    .dataframe tbody tr th {\n",
       "        vertical-align: top;\n",
       "    }\n",
       "\n",
       "    .dataframe thead th {\n",
       "        text-align: right;\n",
       "    }\n",
       "</style>\n",
       "<table border=\"1\" class=\"dataframe\">\n",
       "  <thead>\n",
       "    <tr style=\"text-align: right;\">\n",
       "      <th></th>\n",
       "      <th>Buying_dates</th>\n",
       "      <th>Selling_dates</th>\n",
       "    </tr>\n",
       "  </thead>\n",
       "  <tbody>\n",
       "    <tr>\n",
       "      <th>0</th>\n",
       "      <td>2021-09-28 19:00:00+00:00</td>\n",
       "      <td>2021-09-30 20:30:00+00:00</td>\n",
       "    </tr>\n",
       "    <tr>\n",
       "      <th>1</th>\n",
       "      <td>2021-09-28 19:30:00+00:00</td>\n",
       "      <td>2021-09-30 20:30:00+00:00</td>\n",
       "    </tr>\n",
       "    <tr>\n",
       "      <th>2</th>\n",
       "      <td>2021-09-28 20:00:00+00:00</td>\n",
       "      <td>2021-09-30 20:30:00+00:00</td>\n",
       "    </tr>\n",
       "    <tr>\n",
       "      <th>3</th>\n",
       "      <td>2021-09-29 23:30:00+00:00</td>\n",
       "      <td>2021-09-30 20:30:00+00:00</td>\n",
       "    </tr>\n",
       "    <tr>\n",
       "      <th>4</th>\n",
       "      <td>2021-10-13 12:30:00+00:00</td>\n",
       "      <td>2021-10-14 00:00:00+00:00</td>\n",
       "    </tr>\n",
       "    <tr>\n",
       "      <th>5</th>\n",
       "      <td>2021-10-13 13:00:00+00:00</td>\n",
       "      <td>2021-10-14 00:00:00+00:00</td>\n",
       "    </tr>\n",
       "    <tr>\n",
       "      <th>6</th>\n",
       "      <td>2021-10-13 13:30:00+00:00</td>\n",
       "      <td>2021-10-14 00:00:00+00:00</td>\n",
       "    </tr>\n",
       "    <tr>\n",
       "      <th>7</th>\n",
       "      <td>2021-10-16 19:30:00+00:00</td>\n",
       "      <td>2021-10-17 11:30:00+00:00</td>\n",
       "    </tr>\n",
       "    <tr>\n",
       "      <th>8</th>\n",
       "      <td>2021-10-16 20:00:00+00:00</td>\n",
       "      <td>2021-10-17 11:30:00+00:00</td>\n",
       "    </tr>\n",
       "    <tr>\n",
       "      <th>9</th>\n",
       "      <td>2021-10-21 22:30:00+00:00</td>\n",
       "      <td>2021-10-22 11:00:00+00:00</td>\n",
       "    </tr>\n",
       "    <tr>\n",
       "      <th>10</th>\n",
       "      <td>2021-10-22 01:00:00+00:00</td>\n",
       "      <td>2021-10-22 11:00:00+00:00</td>\n",
       "    </tr>\n",
       "    <tr>\n",
       "      <th>11</th>\n",
       "      <td>2021-10-22 01:30:00+00:00</td>\n",
       "      <td>2021-10-22 11:00:00+00:00</td>\n",
       "    </tr>\n",
       "    <tr>\n",
       "      <th>12</th>\n",
       "      <td>2021-10-22 02:00:00+00:00</td>\n",
       "      <td>2021-10-22 11:00:00+00:00</td>\n",
       "    </tr>\n",
       "    <tr>\n",
       "      <th>13</th>\n",
       "      <td>2021-10-24 18:00:00+00:00</td>\n",
       "      <td>2021-10-24 23:30:00+00:00</td>\n",
       "    </tr>\n",
       "    <tr>\n",
       "      <th>14</th>\n",
       "      <td>2021-10-27 03:30:00+00:00</td>\n",
       "      <td>2021-10-29 03:00:00+00:00</td>\n",
       "    </tr>\n",
       "    <tr>\n",
       "      <th>15</th>\n",
       "      <td>2021-10-27 04:00:00+00:00</td>\n",
       "      <td>2021-10-29 03:00:00+00:00</td>\n",
       "    </tr>\n",
       "    <tr>\n",
       "      <th>16</th>\n",
       "      <td>2021-10-27 04:30:00+00:00</td>\n",
       "      <td>2021-10-29 03:00:00+00:00</td>\n",
       "    </tr>\n",
       "    <tr>\n",
       "      <th>17</th>\n",
       "      <td>2021-10-27 14:00:00+00:00</td>\n",
       "      <td>2021-10-29 03:00:00+00:00</td>\n",
       "    </tr>\n",
       "    <tr>\n",
       "      <th>18</th>\n",
       "      <td>2021-10-27 14:30:00+00:00</td>\n",
       "      <td>2021-10-29 03:00:00+00:00</td>\n",
       "    </tr>\n",
       "    <tr>\n",
       "      <th>19</th>\n",
       "      <td>2021-10-28 01:30:00+00:00</td>\n",
       "      <td>2021-10-29 03:00:00+00:00</td>\n",
       "    </tr>\n",
       "    <tr>\n",
       "      <th>20</th>\n",
       "      <td>2021-10-28 02:00:00+00:00</td>\n",
       "      <td>2021-10-29 03:00:00+00:00</td>\n",
       "    </tr>\n",
       "    <tr>\n",
       "      <th>21</th>\n",
       "      <td>2021-10-28 02:30:00+00:00</td>\n",
       "      <td>2021-10-29 03:00:00+00:00</td>\n",
       "    </tr>\n",
       "    <tr>\n",
       "      <th>22</th>\n",
       "      <td>2021-10-31 15:30:00+00:00</td>\n",
       "      <td>2021-11-01 13:30:00+00:00</td>\n",
       "    </tr>\n",
       "    <tr>\n",
       "      <th>23</th>\n",
       "      <td>2021-11-01 23:30:00+00:00</td>\n",
       "      <td>2021-11-02 17:30:00+00:00</td>\n",
       "    </tr>\n",
       "    <tr>\n",
       "      <th>24</th>\n",
       "      <td>2021-11-04 14:30:00+00:00</td>\n",
       "      <td>2021-11-05 09:00:00+00:00</td>\n",
       "    </tr>\n",
       "    <tr>\n",
       "      <th>25</th>\n",
       "      <td>2021-11-04 20:30:00+00:00</td>\n",
       "      <td>2021-11-05 09:00:00+00:00</td>\n",
       "    </tr>\n",
       "    <tr>\n",
       "      <th>26</th>\n",
       "      <td>2021-11-04 21:00:00+00:00</td>\n",
       "      <td>2021-11-05 09:00:00+00:00</td>\n",
       "    </tr>\n",
       "    <tr>\n",
       "      <th>27</th>\n",
       "      <td>2021-11-04 21:30:00+00:00</td>\n",
       "      <td>2021-11-05 09:00:00+00:00</td>\n",
       "    </tr>\n",
       "    <tr>\n",
       "      <th>28</th>\n",
       "      <td>2021-11-05 22:00:00+00:00</td>\n",
       "      <td>2021-11-06 07:00:00+00:00</td>\n",
       "    </tr>\n",
       "    <tr>\n",
       "      <th>29</th>\n",
       "      <td>2021-11-05 23:00:00+00:00</td>\n",
       "      <td>2021-11-06 07:00:00+00:00</td>\n",
       "    </tr>\n",
       "    <tr>\n",
       "      <th>30</th>\n",
       "      <td>2021-11-10 08:30:00+00:00</td>\n",
       "      <td>2021-11-13 19:00:00+00:00</td>\n",
       "    </tr>\n",
       "    <tr>\n",
       "      <th>31</th>\n",
       "      <td>2021-11-10 09:00:00+00:00</td>\n",
       "      <td>2021-11-13 19:00:00+00:00</td>\n",
       "    </tr>\n",
       "    <tr>\n",
       "      <th>32</th>\n",
       "      <td>2021-11-16 11:30:00+00:00</td>\n",
       "      <td>2021-11-17 20:00:00+00:00</td>\n",
       "    </tr>\n",
       "    <tr>\n",
       "      <th>33</th>\n",
       "      <td>2021-11-16 12:00:00+00:00</td>\n",
       "      <td>2021-11-17 20:00:00+00:00</td>\n",
       "    </tr>\n",
       "    <tr>\n",
       "      <th>34</th>\n",
       "      <td>2021-11-16 12:30:00+00:00</td>\n",
       "      <td>2021-11-17 20:00:00+00:00</td>\n",
       "    </tr>\n",
       "    <tr>\n",
       "      <th>35</th>\n",
       "      <td>2021-11-16 21:30:00+00:00</td>\n",
       "      <td>2021-11-17 20:00:00+00:00</td>\n",
       "    </tr>\n",
       "    <tr>\n",
       "      <th>36</th>\n",
       "      <td>2021-11-16 22:00:00+00:00</td>\n",
       "      <td>2021-11-17 20:00:00+00:00</td>\n",
       "    </tr>\n",
       "    <tr>\n",
       "      <th>37</th>\n",
       "      <td>2021-11-19 01:00:00+00:00</td>\n",
       "      <td>2021-11-19 12:00:00+00:00</td>\n",
       "    </tr>\n",
       "    <tr>\n",
       "      <th>38</th>\n",
       "      <td>2021-11-19 06:00:00+00:00</td>\n",
       "      <td>2021-11-19 12:00:00+00:00</td>\n",
       "    </tr>\n",
       "    <tr>\n",
       "      <th>39</th>\n",
       "      <td>2021-11-19 06:30:00+00:00</td>\n",
       "      <td>2021-11-19 12:00:00+00:00</td>\n",
       "    </tr>\n",
       "    <tr>\n",
       "      <th>40</th>\n",
       "      <td>2021-11-19 07:00:00+00:00</td>\n",
       "      <td>2021-11-19 12:00:00+00:00</td>\n",
       "    </tr>\n",
       "    <tr>\n",
       "      <th>41</th>\n",
       "      <td>2021-11-21 14:00:00+00:00</td>\n",
       "      <td>2021-11-21 18:30:00+00:00</td>\n",
       "    </tr>\n",
       "  </tbody>\n",
       "</table>\n",
       "</div>"
      ],
      "text/plain": [
       "                Buying_dates             Selling_dates\n",
       "0  2021-09-28 19:00:00+00:00 2021-09-30 20:30:00+00:00\n",
       "1  2021-09-28 19:30:00+00:00 2021-09-30 20:30:00+00:00\n",
       "2  2021-09-28 20:00:00+00:00 2021-09-30 20:30:00+00:00\n",
       "3  2021-09-29 23:30:00+00:00 2021-09-30 20:30:00+00:00\n",
       "4  2021-10-13 12:30:00+00:00 2021-10-14 00:00:00+00:00\n",
       "5  2021-10-13 13:00:00+00:00 2021-10-14 00:00:00+00:00\n",
       "6  2021-10-13 13:30:00+00:00 2021-10-14 00:00:00+00:00\n",
       "7  2021-10-16 19:30:00+00:00 2021-10-17 11:30:00+00:00\n",
       "8  2021-10-16 20:00:00+00:00 2021-10-17 11:30:00+00:00\n",
       "9  2021-10-21 22:30:00+00:00 2021-10-22 11:00:00+00:00\n",
       "10 2021-10-22 01:00:00+00:00 2021-10-22 11:00:00+00:00\n",
       "11 2021-10-22 01:30:00+00:00 2021-10-22 11:00:00+00:00\n",
       "12 2021-10-22 02:00:00+00:00 2021-10-22 11:00:00+00:00\n",
       "13 2021-10-24 18:00:00+00:00 2021-10-24 23:30:00+00:00\n",
       "14 2021-10-27 03:30:00+00:00 2021-10-29 03:00:00+00:00\n",
       "15 2021-10-27 04:00:00+00:00 2021-10-29 03:00:00+00:00\n",
       "16 2021-10-27 04:30:00+00:00 2021-10-29 03:00:00+00:00\n",
       "17 2021-10-27 14:00:00+00:00 2021-10-29 03:00:00+00:00\n",
       "18 2021-10-27 14:30:00+00:00 2021-10-29 03:00:00+00:00\n",
       "19 2021-10-28 01:30:00+00:00 2021-10-29 03:00:00+00:00\n",
       "20 2021-10-28 02:00:00+00:00 2021-10-29 03:00:00+00:00\n",
       "21 2021-10-28 02:30:00+00:00 2021-10-29 03:00:00+00:00\n",
       "22 2021-10-31 15:30:00+00:00 2021-11-01 13:30:00+00:00\n",
       "23 2021-11-01 23:30:00+00:00 2021-11-02 17:30:00+00:00\n",
       "24 2021-11-04 14:30:00+00:00 2021-11-05 09:00:00+00:00\n",
       "25 2021-11-04 20:30:00+00:00 2021-11-05 09:00:00+00:00\n",
       "26 2021-11-04 21:00:00+00:00 2021-11-05 09:00:00+00:00\n",
       "27 2021-11-04 21:30:00+00:00 2021-11-05 09:00:00+00:00\n",
       "28 2021-11-05 22:00:00+00:00 2021-11-06 07:00:00+00:00\n",
       "29 2021-11-05 23:00:00+00:00 2021-11-06 07:00:00+00:00\n",
       "30 2021-11-10 08:30:00+00:00 2021-11-13 19:00:00+00:00\n",
       "31 2021-11-10 09:00:00+00:00 2021-11-13 19:00:00+00:00\n",
       "32 2021-11-16 11:30:00+00:00 2021-11-17 20:00:00+00:00\n",
       "33 2021-11-16 12:00:00+00:00 2021-11-17 20:00:00+00:00\n",
       "34 2021-11-16 12:30:00+00:00 2021-11-17 20:00:00+00:00\n",
       "35 2021-11-16 21:30:00+00:00 2021-11-17 20:00:00+00:00\n",
       "36 2021-11-16 22:00:00+00:00 2021-11-17 20:00:00+00:00\n",
       "37 2021-11-19 01:00:00+00:00 2021-11-19 12:00:00+00:00\n",
       "38 2021-11-19 06:00:00+00:00 2021-11-19 12:00:00+00:00\n",
       "39 2021-11-19 06:30:00+00:00 2021-11-19 12:00:00+00:00\n",
       "40 2021-11-19 07:00:00+00:00 2021-11-19 12:00:00+00:00\n",
       "41 2021-11-21 14:00:00+00:00 2021-11-21 18:30:00+00:00"
      ]
     },
     "execution_count": 157,
     "metadata": {},
     "output_type": "execute_result"
    }
   ],
   "source": [
    "frame # as you can see, there are overlapping buying dates, we will eliminate this buy check if the buying date is greater than the selling date of the previous row. "
   ]
  },
  {
   "cell_type": "code",
   "execution_count": 158,
   "metadata": {},
   "outputs": [],
   "source": [
    "actuals = frame[frame.Buying_dates > frame.Selling_dates.shift(1)]"
   ]
  },
  {
   "cell_type": "code",
   "execution_count": 159,
   "metadata": {},
   "outputs": [
    {
     "data": {
      "text/html": [
       "<div>\n",
       "<style scoped>\n",
       "    .dataframe tbody tr th:only-of-type {\n",
       "        vertical-align: middle;\n",
       "    }\n",
       "\n",
       "    .dataframe tbody tr th {\n",
       "        vertical-align: top;\n",
       "    }\n",
       "\n",
       "    .dataframe thead th {\n",
       "        text-align: right;\n",
       "    }\n",
       "</style>\n",
       "<table border=\"1\" class=\"dataframe\">\n",
       "  <thead>\n",
       "    <tr style=\"text-align: right;\">\n",
       "      <th></th>\n",
       "      <th>Buying_dates</th>\n",
       "      <th>Selling_dates</th>\n",
       "    </tr>\n",
       "  </thead>\n",
       "  <tbody>\n",
       "    <tr>\n",
       "      <th>4</th>\n",
       "      <td>2021-10-13 12:30:00+00:00</td>\n",
       "      <td>2021-10-14 00:00:00+00:00</td>\n",
       "    </tr>\n",
       "    <tr>\n",
       "      <th>7</th>\n",
       "      <td>2021-10-16 19:30:00+00:00</td>\n",
       "      <td>2021-10-17 11:30:00+00:00</td>\n",
       "    </tr>\n",
       "    <tr>\n",
       "      <th>9</th>\n",
       "      <td>2021-10-21 22:30:00+00:00</td>\n",
       "      <td>2021-10-22 11:00:00+00:00</td>\n",
       "    </tr>\n",
       "    <tr>\n",
       "      <th>13</th>\n",
       "      <td>2021-10-24 18:00:00+00:00</td>\n",
       "      <td>2021-10-24 23:30:00+00:00</td>\n",
       "    </tr>\n",
       "    <tr>\n",
       "      <th>14</th>\n",
       "      <td>2021-10-27 03:30:00+00:00</td>\n",
       "      <td>2021-10-29 03:00:00+00:00</td>\n",
       "    </tr>\n",
       "    <tr>\n",
       "      <th>22</th>\n",
       "      <td>2021-10-31 15:30:00+00:00</td>\n",
       "      <td>2021-11-01 13:30:00+00:00</td>\n",
       "    </tr>\n",
       "    <tr>\n",
       "      <th>23</th>\n",
       "      <td>2021-11-01 23:30:00+00:00</td>\n",
       "      <td>2021-11-02 17:30:00+00:00</td>\n",
       "    </tr>\n",
       "    <tr>\n",
       "      <th>24</th>\n",
       "      <td>2021-11-04 14:30:00+00:00</td>\n",
       "      <td>2021-11-05 09:00:00+00:00</td>\n",
       "    </tr>\n",
       "    <tr>\n",
       "      <th>28</th>\n",
       "      <td>2021-11-05 22:00:00+00:00</td>\n",
       "      <td>2021-11-06 07:00:00+00:00</td>\n",
       "    </tr>\n",
       "    <tr>\n",
       "      <th>30</th>\n",
       "      <td>2021-11-10 08:30:00+00:00</td>\n",
       "      <td>2021-11-13 19:00:00+00:00</td>\n",
       "    </tr>\n",
       "    <tr>\n",
       "      <th>32</th>\n",
       "      <td>2021-11-16 11:30:00+00:00</td>\n",
       "      <td>2021-11-17 20:00:00+00:00</td>\n",
       "    </tr>\n",
       "    <tr>\n",
       "      <th>37</th>\n",
       "      <td>2021-11-19 01:00:00+00:00</td>\n",
       "      <td>2021-11-19 12:00:00+00:00</td>\n",
       "    </tr>\n",
       "    <tr>\n",
       "      <th>41</th>\n",
       "      <td>2021-11-21 14:00:00+00:00</td>\n",
       "      <td>2021-11-21 18:30:00+00:00</td>\n",
       "    </tr>\n",
       "  </tbody>\n",
       "</table>\n",
       "</div>"
      ],
      "text/plain": [
       "                Buying_dates             Selling_dates\n",
       "4  2021-10-13 12:30:00+00:00 2021-10-14 00:00:00+00:00\n",
       "7  2021-10-16 19:30:00+00:00 2021-10-17 11:30:00+00:00\n",
       "9  2021-10-21 22:30:00+00:00 2021-10-22 11:00:00+00:00\n",
       "13 2021-10-24 18:00:00+00:00 2021-10-24 23:30:00+00:00\n",
       "14 2021-10-27 03:30:00+00:00 2021-10-29 03:00:00+00:00\n",
       "22 2021-10-31 15:30:00+00:00 2021-11-01 13:30:00+00:00\n",
       "23 2021-11-01 23:30:00+00:00 2021-11-02 17:30:00+00:00\n",
       "24 2021-11-04 14:30:00+00:00 2021-11-05 09:00:00+00:00\n",
       "28 2021-11-05 22:00:00+00:00 2021-11-06 07:00:00+00:00\n",
       "30 2021-11-10 08:30:00+00:00 2021-11-13 19:00:00+00:00\n",
       "32 2021-11-16 11:30:00+00:00 2021-11-17 20:00:00+00:00\n",
       "37 2021-11-19 01:00:00+00:00 2021-11-19 12:00:00+00:00\n",
       "41 2021-11-21 14:00:00+00:00 2021-11-21 18:30:00+00:00"
      ]
     },
     "execution_count": 159,
     "metadata": {},
     "output_type": "execute_result"
    }
   ],
   "source": [
    "actuals"
   ]
  },
  {
   "cell_type": "code",
   "execution_count": 160,
   "metadata": {},
   "outputs": [],
   "source": [
    "def profitcalc():\n",
    "    Buyprices = df.loc[actuals.Buying_dates].Open\n",
    "    Sellprices = df.loc[actuals.Selling_dates].Open\n",
    "    return (Sellprices.values - Buyprices.values)/Buyprices.values"
   ]
  },
  {
   "cell_type": "code",
   "execution_count": 161,
   "metadata": {},
   "outputs": [],
   "source": [
    "profits = profitcalc()"
   ]
  },
  {
   "cell_type": "code",
   "execution_count": 162,
   "metadata": {},
   "outputs": [
    {
     "data": {
      "text/plain": [
       "array([ 0.04159732,  0.00223063,  0.00294097,  0.00985681,  0.01194308,\n",
       "        0.01972574,  0.04193221,  0.0026007 ,  0.00298263, -0.03869678,\n",
       "       -0.00289026, -0.00923307,  0.0095216 ])"
      ]
     },
     "execution_count": 162,
     "metadata": {},
     "output_type": "execute_result"
    }
   ],
   "source": [
    "profits"
   ]
  },
  {
   "cell_type": "code",
   "execution_count": 163,
   "metadata": {},
   "outputs": [
    {
     "data": {
      "text/plain": [
       "0.0072701219886743265"
      ]
     },
     "execution_count": 163,
     "metadata": {},
     "output_type": "execute_result"
    }
   ],
   "source": [
    "profits.mean() "
   ]
  },
  {
   "cell_type": "code",
   "execution_count": 164,
   "metadata": {},
   "outputs": [
    {
     "data": {
      "text/plain": [
       "1.0959570091537654"
      ]
     },
     "execution_count": 164,
     "metadata": {},
     "output_type": "execute_result"
    }
   ],
   "source": [
    "(profits +1).prod()"
   ]
  },
  {
   "cell_type": "markdown",
   "metadata": {},
   "source": [
    "### Visualization with matplotlib"
   ]
  },
  {
   "cell_type": "code",
   "execution_count": 165,
   "metadata": {},
   "outputs": [],
   "source": [
    "import matplotlib.pyplot as plt \n"
   ]
  },
  {
   "cell_type": "code",
   "execution_count": 166,
   "metadata": {},
   "outputs": [
    {
     "data": {
      "image/png": "[encoded data removed]",
      "text/plain": [
       "<Figure size 1440x720 with 1 Axes>"
      ]
     },
     "metadata": {
      "needs_background": "light"
     },
     "output_type": "display_data"
    }
   ],
   "source": [
    "plt.figure(figsize=(20,10))\n",
    "plt.plot(df.Close, color='k',alpha=0.7)\n",
    "plt.scatter(actuals.Buying_dates, df.Open[actuals.Buying_dates], marker='^', color='g', s=500)\n",
    "plt.scatter(actuals.Selling_dates, df.Open[actuals.Selling_dates], marker='v', color='r', s=500)\n",
    "plt.ylabel(ylabel= 'Price (USD)', fontsize=15)\n",
    "plt.xlabel(xlabel='Date', fontsize=15)\n",
    "plt.show()"
   ]
  }
 ],
 "metadata": {
  "interpreter": {
   "hash": "35bb31b06ee2a22ff081d9deaa83ac49e749339a652906ee59ebb4588edc2a3c"
  },
  "kernelspec": {
   "display_name": "Python 3.9.5 64-bit ('base': conda)",
   "language": "python",
   "name": "python3"
  },
  "language_info": {
   "codemirror_mode": {
    "name": "ipython",
    "version": 3
   },
   "file_extension": ".py",
   "mimetype": "text/x-python",
   "name": "python",
   "nbconvert_exporter": "python",
   "pygments_lexer": "ipython3",
   "version": "3.9.9"
  },
  "orig_nbformat": 4
 },
 "nbformat": 4,
 "nbformat_minor": 2
}
