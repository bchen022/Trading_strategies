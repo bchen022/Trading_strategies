{
 "cells": [
  {
   "cell_type": "markdown",
   "metadata": {},
   "source": [
    "## Backtesting a MACD, Parabolic SAR and Stochastic Trading Strategy Using Python\n",
    "## here is a link to his video: https://www.youtube.com/watch?v=sbKTRVWppZY\n",
    "\n",
    "### Buy Conditions:\n",
    "#### MACD crosses above the signal line, this signals upwards momentum\n",
    "#### the price is above the parabolic SAR, this indicates ithe market is on a uptrend\n",
    "#### stochastic - Both K and D line should be above 20 and below 80. If K and D line both hit below 20 (Buy signal)\n",
    "\n",
    "### Sell conditions \n",
    "#### MACD crosses belove the signal line, this signals downward momentum \n",
    "#### price is below the parabolic SAR, this signals downtrending market\n",
    "#### stochastic - K and KD line should be between 20 and 80. If K and D line hit above 80 (Sell signal)\n",
    "\n"
   ]
  },
  {
   "cell_type": "code",
   "execution_count": 137,
   "metadata": {},
   "outputs": [
    {
     "name": "stdout",
     "output_type": "stream",
     "text": [
      "Requirement already satisfied: ta in c:\\users\\b5-chen\\appdata\\local\\packages\\pythonsoftwarefoundation.python.3.9_qbz5n2kfra8p0\\localcache\\local-packages\\python39\\site-packages (0.7.0)\n",
      "Requirement already satisfied: numpy in c:\\users\\b5-chen\\appdata\\local\\packages\\pythonsoftwarefoundation.python.3.9_qbz5n2kfra8p0\\localcache\\local-packages\\python39\\site-packages (from ta) (1.21.3)\n",
      "Requirement already satisfied: pandas in c:\\users\\b5-chen\\appdata\\local\\packages\\pythonsoftwarefoundation.python.3.9_qbz5n2kfra8p0\\localcache\\local-packages\\python39\\site-packages (from ta) (1.3.4)\n",
      "Requirement already satisfied: pytz>=2017.3 in c:\\users\\b5-chen\\appdata\\local\\packages\\pythonsoftwarefoundation.python.3.9_qbz5n2kfra8p0\\localcache\\local-packages\\python39\\site-packages (from pandas->ta) (2021.3)\n",
      "Requirement already satisfied: python-dateutil>=2.7.3 in c:\\users\\b5-chen\\appdata\\local\\packages\\pythonsoftwarefoundation.python.3.9_qbz5n2kfra8p0\\localcache\\local-packages\\python39\\site-packages (from pandas->ta) (2.8.2)\n",
      "Requirement already satisfied: six>=1.5 in c:\\users\\b5-chen\\appdata\\local\\packages\\pythonsoftwarefoundation.python.3.9_qbz5n2kfra8p0\\localcache\\local-packages\\python39\\site-packages (from python-dateutil>=2.7.3->pandas->ta) (1.16.0)\n"
     ]
    }
   ],
   "source": [
    "!pip install ta"
   ]
  },
  {
   "cell_type": "code",
   "execution_count": 138,
   "metadata": {},
   "outputs": [],
   "source": [
    "import yfinance as yf\n",
    "import numpy as np \n",
    "import ta\n",
    "import pandas as pd"
   ]
  },
  {
   "cell_type": "code",
   "execution_count": 139,
   "metadata": {},
   "outputs": [
    {
     "name": "stdout",
     "output_type": "stream",
     "text": [
      "[*********************100%***********************]  1 of 1 completed\n"
     ]
    }
   ],
   "source": [
    "df = yf.download('ETC-USD', start='2021-09-28', interval='30m') "
   ]
  },
  {
   "cell_type": "code",
   "execution_count": 140,
   "metadata": {},
   "outputs": [],
   "source": [
    "# I will calculate the technical indicators \n",
    "df['macd']= ta.trend.macd_diff(df.Close)"
   ]
  },
  {
   "cell_type": "code",
   "execution_count": 141,
   "metadata": {},
   "outputs": [],
   "source": [
    "df['%K'] = ta.momentum.stoch(df.High, df.Low, df.Close, window=14, smooth_window=3)"
   ]
  },
  {
   "cell_type": "code",
   "execution_count": 142,
   "metadata": {},
   "outputs": [],
   "source": [
    "df['%D'] = df['%K'].rolling(3).mean()"
   ]
  },
  {
   "cell_type": "code",
   "execution_count": 143,
   "metadata": {},
   "outputs": [],
   "source": [
    "df['psarup'] = ta.trend.psar_up(df.High, df.Low, df.Close, step=0.03, max_step=0.2)"
   ]
  },
  {
   "cell_type": "code",
   "execution_count": 144,
   "metadata": {},
   "outputs": [],
   "source": [
    "df['psardown'] = ta.trend.psar_down(df.High, df.Low, df.Close, step=0.03, max_step=0.2)\n"
   ]
  },
  {
   "cell_type": "code",
   "execution_count": 145,
   "metadata": {},
   "outputs": [],
   "source": [
    "df.dropna(subset = ['macd', '%K', '%D'], inplace=True)"
   ]
  },
  {
   "cell_type": "code",
   "execution_count": 146,
   "metadata": {},
   "outputs": [
    {
     "data": {
      "text/html": [
       "<div>\n",
       "<style scoped>\n",
       "    .dataframe tbody tr th:only-of-type {\n",
       "        vertical-align: middle;\n",
       "    }\n",
       "\n",
       "    .dataframe tbody tr th {\n",
       "        vertical-align: top;\n",
       "    }\n",
       "\n",
       "    .dataframe thead th {\n",
       "        text-align: right;\n",
       "    }\n",
       "</style>\n",
       "<table border=\"1\" class=\"dataframe\">\n",
       "  <thead>\n",
       "    <tr style=\"text-align: right;\">\n",
       "      <th></th>\n",
       "      <th>Open</th>\n",
       "      <th>High</th>\n",
       "      <th>Low</th>\n",
       "      <th>Close</th>\n",
       "      <th>Adj Close</th>\n",
       "      <th>Volume</th>\n",
       "      <th>macd</th>\n",
       "      <th>%K</th>\n",
       "      <th>%D</th>\n",
       "      <th>psarup</th>\n",
       "      <th>psardown</th>\n",
       "    </tr>\n",
       "    <tr>\n",
       "      <th>Datetime</th>\n",
       "      <th></th>\n",
       "      <th></th>\n",
       "      <th></th>\n",
       "      <th></th>\n",
       "      <th></th>\n",
       "      <th></th>\n",
       "      <th></th>\n",
       "      <th></th>\n",
       "      <th></th>\n",
       "      <th></th>\n",
       "      <th></th>\n",
       "    </tr>\n",
       "  </thead>\n",
       "  <tbody>\n",
       "    <tr>\n",
       "      <th>2021-09-28 15:30:00+00:00</th>\n",
       "      <td>45.464428</td>\n",
       "      <td>45.715370</td>\n",
       "      <td>45.335407</td>\n",
       "      <td>45.432842</td>\n",
       "      <td>45.432842</td>\n",
       "      <td>2916096</td>\n",
       "      <td>-0.148613</td>\n",
       "      <td>4.512688</td>\n",
       "      <td>10.591929</td>\n",
       "      <td>NaN</td>\n",
       "      <td>48.338421</td>\n",
       "    </tr>\n",
       "    <tr>\n",
       "      <th>2021-09-28 16:00:00+00:00</th>\n",
       "      <td>45.365993</td>\n",
       "      <td>45.794289</td>\n",
       "      <td>45.231304</td>\n",
       "      <td>45.729939</td>\n",
       "      <td>45.729939</td>\n",
       "      <td>8703424</td>\n",
       "      <td>-0.133758</td>\n",
       "      <td>14.713268</td>\n",
       "      <td>10.325952</td>\n",
       "      <td>NaN</td>\n",
       "      <td>48.158240</td>\n",
       "    </tr>\n",
       "    <tr>\n",
       "      <th>2021-09-28 16:30:00+00:00</th>\n",
       "      <td>45.764839</td>\n",
       "      <td>45.839554</td>\n",
       "      <td>45.122185</td>\n",
       "      <td>45.122185</td>\n",
       "      <td>45.122185</td>\n",
       "      <td>2929344</td>\n",
       "      <td>-0.157006</td>\n",
       "      <td>0.000000</td>\n",
       "      <td>6.408652</td>\n",
       "      <td>NaN</td>\n",
       "      <td>47.894816</td>\n",
       "    </tr>\n",
       "    <tr>\n",
       "      <th>2021-09-28 17:00:00+00:00</th>\n",
       "      <td>45.126877</td>\n",
       "      <td>45.286266</td>\n",
       "      <td>44.881798</td>\n",
       "      <td>45.154350</td>\n",
       "      <td>45.154350</td>\n",
       "      <td>5295488</td>\n",
       "      <td>-0.161721</td>\n",
       "      <td>7.290389</td>\n",
       "      <td>7.334552</td>\n",
       "      <td>NaN</td>\n",
       "      <td>47.562100</td>\n",
       "    </tr>\n",
       "    <tr>\n",
       "      <th>2021-09-28 17:30:00+00:00</th>\n",
       "      <td>45.208202</td>\n",
       "      <td>45.266075</td>\n",
       "      <td>45.004784</td>\n",
       "      <td>45.209835</td>\n",
       "      <td>45.209835</td>\n",
       "      <td>4739904</td>\n",
       "      <td>-0.152715</td>\n",
       "      <td>8.774527</td>\n",
       "      <td>5.354972</td>\n",
       "      <td>NaN</td>\n",
       "      <td>47.160055</td>\n",
       "    </tr>\n",
       "    <tr>\n",
       "      <th>2021-09-28 18:00:00+00:00</th>\n",
       "      <td>45.232040</td>\n",
       "      <td>45.241535</td>\n",
       "      <td>44.873756</td>\n",
       "      <td>45.241535</td>\n",
       "      <td>45.241535</td>\n",
       "      <td>7652288</td>\n",
       "      <td>-0.136752</td>\n",
       "      <td>10.383499</td>\n",
       "      <td>8.816139</td>\n",
       "      <td>NaN</td>\n",
       "      <td>46.818316</td>\n",
       "    </tr>\n",
       "    <tr>\n",
       "      <th>2021-09-28 18:30:00+00:00</th>\n",
       "      <td>45.246719</td>\n",
       "      <td>45.620865</td>\n",
       "      <td>45.218483</td>\n",
       "      <td>45.482243</td>\n",
       "      <td>45.482243</td>\n",
       "      <td>7899584</td>\n",
       "      <td>-0.103615</td>\n",
       "      <td>22.865223</td>\n",
       "      <td>14.007750</td>\n",
       "      <td>NaN</td>\n",
       "      <td>46.468295</td>\n",
       "    </tr>\n",
       "    <tr>\n",
       "      <th>2021-09-28 19:00:00+00:00</th>\n",
       "      <td>45.469311</td>\n",
       "      <td>45.695095</td>\n",
       "      <td>45.469311</td>\n",
       "      <td>45.672478</td>\n",
       "      <td>45.672478</td>\n",
       "      <td>32681600</td>\n",
       "      <td>-0.064435</td>\n",
       "      <td>34.760348</td>\n",
       "      <td>22.669690</td>\n",
       "      <td>NaN</td>\n",
       "      <td>46.181278</td>\n",
       "    </tr>\n",
       "    <tr>\n",
       "      <th>2021-09-28 19:30:00+00:00</th>\n",
       "      <td>45.662823</td>\n",
       "      <td>45.664646</td>\n",
       "      <td>45.220631</td>\n",
       "      <td>45.466602</td>\n",
       "      <td>45.466602</td>\n",
       "      <td>6089344</td>\n",
       "      <td>-0.048654</td>\n",
       "      <td>27.486183</td>\n",
       "      <td>28.370585</td>\n",
       "      <td>NaN</td>\n",
       "      <td>45.945924</td>\n",
       "    </tr>\n",
       "    <tr>\n",
       "      <th>2021-09-28 20:00:00+00:00</th>\n",
       "      <td>45.454281</td>\n",
       "      <td>45.966564</td>\n",
       "      <td>45.454281</td>\n",
       "      <td>45.867363</td>\n",
       "      <td>45.867363</td>\n",
       "      <td>11450112</td>\n",
       "      <td>-0.009541</td>\n",
       "      <td>52.760172</td>\n",
       "      <td>38.335568</td>\n",
       "      <td>44.873756</td>\n",
       "      <td>NaN</td>\n",
       "    </tr>\n",
       "    <tr>\n",
       "      <th>2021-09-28 20:30:00+00:00</th>\n",
       "      <td>45.881413</td>\n",
       "      <td>45.927628</td>\n",
       "      <td>45.822697</td>\n",
       "      <td>45.853348</td>\n",
       "      <td>45.853348</td>\n",
       "      <td>875584</td>\n",
       "      <td>0.015697</td>\n",
       "      <td>68.764460</td>\n",
       "      <td>49.670272</td>\n",
       "      <td>44.906541</td>\n",
       "      <td>NaN</td>\n",
       "    </tr>\n",
       "    <tr>\n",
       "      <th>2021-09-28 21:00:00+00:00</th>\n",
       "      <td>45.849228</td>\n",
       "      <td>46.146500</td>\n",
       "      <td>45.849228</td>\n",
       "      <td>46.146500</td>\n",
       "      <td>46.146500</td>\n",
       "      <td>2577344</td>\n",
       "      <td>0.050483</td>\n",
       "      <td>100.000000</td>\n",
       "      <td>73.841544</td>\n",
       "      <td>44.938341</td>\n",
       "      <td>NaN</td>\n",
       "    </tr>\n",
       "    <tr>\n",
       "      <th>2021-09-28 21:30:00+00:00</th>\n",
       "      <td>46.163204</td>\n",
       "      <td>46.243073</td>\n",
       "      <td>46.043354</td>\n",
       "      <td>46.167080</td>\n",
       "      <td>46.167080</td>\n",
       "      <td>6749504</td>\n",
       "      <td>0.071919</td>\n",
       "      <td>94.450326</td>\n",
       "      <td>87.738262</td>\n",
       "      <td>45.010831</td>\n",
       "      <td>NaN</td>\n",
       "    </tr>\n",
       "    <tr>\n",
       "      <th>2021-09-28 22:00:00+00:00</th>\n",
       "      <td>46.207211</td>\n",
       "      <td>46.215305</td>\n",
       "      <td>45.707420</td>\n",
       "      <td>45.718609</td>\n",
       "      <td>45.718609</td>\n",
       "      <td>879488</td>\n",
       "      <td>0.053767</td>\n",
       "      <td>61.698862</td>\n",
       "      <td>85.383062</td>\n",
       "      <td>45.121733</td>\n",
       "      <td>NaN</td>\n",
       "    </tr>\n",
       "    <tr>\n",
       "      <th>2021-09-28 22:30:00+00:00</th>\n",
       "      <td>45.684952</td>\n",
       "      <td>45.814888</td>\n",
       "      <td>45.475399</td>\n",
       "      <td>45.475399</td>\n",
       "      <td>45.475399</td>\n",
       "      <td>3159680</td>\n",
       "      <td>0.024730</td>\n",
       "      <td>43.937452</td>\n",
       "      <td>66.695547</td>\n",
       "      <td>45.222653</td>\n",
       "      <td>NaN</td>\n",
       "    </tr>\n",
       "    <tr>\n",
       "      <th>2021-09-28 23:00:00+00:00</th>\n",
       "      <td>45.400539</td>\n",
       "      <td>45.698219</td>\n",
       "      <td>45.394070</td>\n",
       "      <td>45.589016</td>\n",
       "      <td>45.589016</td>\n",
       "      <td>6306240</td>\n",
       "      <td>0.013109</td>\n",
       "      <td>52.234802</td>\n",
       "      <td>52.623705</td>\n",
       "      <td>45.314491</td>\n",
       "      <td>NaN</td>\n",
       "    </tr>\n",
       "    <tr>\n",
       "      <th>2021-09-28 23:30:00+00:00</th>\n",
       "      <td>45.603085</td>\n",
       "      <td>45.603085</td>\n",
       "      <td>44.871166</td>\n",
       "      <td>45.027733</td>\n",
       "      <td>45.027733</td>\n",
       "      <td>1481920</td>\n",
       "      <td>-0.030089</td>\n",
       "      <td>11.412341</td>\n",
       "      <td>35.861532</td>\n",
       "      <td>NaN</td>\n",
       "      <td>46.243073</td>\n",
       "    </tr>\n",
       "    <tr>\n",
       "      <th>2021-09-29 00:00:00+00:00</th>\n",
       "      <td>45.059349</td>\n",
       "      <td>45.302505</td>\n",
       "      <td>44.663528</td>\n",
       "      <td>45.175049</td>\n",
       "      <td>45.175049</td>\n",
       "      <td>10244288</td>\n",
       "      <td>-0.045523</td>\n",
       "      <td>32.384053</td>\n",
       "      <td>32.010398</td>\n",
       "      <td>NaN</td>\n",
       "      <td>46.201915</td>\n",
       "    </tr>\n",
       "    <tr>\n",
       "      <th>2021-09-29 00:30:00+00:00</th>\n",
       "      <td>45.384670</td>\n",
       "      <td>45.626888</td>\n",
       "      <td>45.162392</td>\n",
       "      <td>45.423759</td>\n",
       "      <td>45.423759</td>\n",
       "      <td>23489152</td>\n",
       "      <td>-0.036172</td>\n",
       "      <td>48.129776</td>\n",
       "      <td>30.642056</td>\n",
       "      <td>NaN</td>\n",
       "      <td>46.109612</td>\n",
       "    </tr>\n",
       "    <tr>\n",
       "      <th>2021-09-29 01:00:00+00:00</th>\n",
       "      <td>45.431622</td>\n",
       "      <td>45.830978</td>\n",
       "      <td>45.415203</td>\n",
       "      <td>45.645393</td>\n",
       "      <td>45.645393</td>\n",
       "      <td>9580352</td>\n",
       "      <td>-0.013423</td>\n",
       "      <td>62.161288</td>\n",
       "      <td>47.558372</td>\n",
       "      <td>NaN</td>\n",
       "      <td>46.022847</td>\n",
       "    </tr>\n",
       "  </tbody>\n",
       "</table>\n",
       "</div>"
      ],
      "text/plain": [
       "                                Open       High        Low      Close  \\\n",
       "Datetime                                                                \n",
       "2021-09-28 15:30:00+00:00  45.464428  45.715370  45.335407  45.432842   \n",
       "2021-09-28 16:00:00+00:00  45.365993  45.794289  45.231304  45.729939   \n",
       "2021-09-28 16:30:00+00:00  45.764839  45.839554  45.122185  45.122185   \n",
       "2021-09-28 17:00:00+00:00  45.126877  45.286266  44.881798  45.154350   \n",
       "2021-09-28 17:30:00+00:00  45.208202  45.266075  45.004784  45.209835   \n",
       "2021-09-28 18:00:00+00:00  45.232040  45.241535  44.873756  45.241535   \n",
       "2021-09-28 18:30:00+00:00  45.246719  45.620865  45.218483  45.482243   \n",
       "2021-09-28 19:00:00+00:00  45.469311  45.695095  45.469311  45.672478   \n",
       "2021-09-28 19:30:00+00:00  45.662823  45.664646  45.220631  45.466602   \n",
       "2021-09-28 20:00:00+00:00  45.454281  45.966564  45.454281  45.867363   \n",
       "2021-09-28 20:30:00+00:00  45.881413  45.927628  45.822697  45.853348   \n",
       "2021-09-28 21:00:00+00:00  45.849228  46.146500  45.849228  46.146500   \n",
       "2021-09-28 21:30:00+00:00  46.163204  46.243073  46.043354  46.167080   \n",
       "2021-09-28 22:00:00+00:00  46.207211  46.215305  45.707420  45.718609   \n",
       "2021-09-28 22:30:00+00:00  45.684952  45.814888  45.475399  45.475399   \n",
       "2021-09-28 23:00:00+00:00  45.400539  45.698219  45.394070  45.589016   \n",
       "2021-09-28 23:30:00+00:00  45.603085  45.603085  44.871166  45.027733   \n",
       "2021-09-29 00:00:00+00:00  45.059349  45.302505  44.663528  45.175049   \n",
       "2021-09-29 00:30:00+00:00  45.384670  45.626888  45.162392  45.423759   \n",
       "2021-09-29 01:00:00+00:00  45.431622  45.830978  45.415203  45.645393   \n",
       "\n",
       "                           Adj Close    Volume      macd          %K  \\\n",
       "Datetime                                                               \n",
       "2021-09-28 15:30:00+00:00  45.432842   2916096 -0.148613    4.512688   \n",
       "2021-09-28 16:00:00+00:00  45.729939   8703424 -0.133758   14.713268   \n",
       "2021-09-28 16:30:00+00:00  45.122185   2929344 -0.157006    0.000000   \n",
       "2021-09-28 17:00:00+00:00  45.154350   5295488 -0.161721    7.290389   \n",
       "2021-09-28 17:30:00+00:00  45.209835   4739904 -0.152715    8.774527   \n",
       "2021-09-28 18:00:00+00:00  45.241535   7652288 -0.136752   10.383499   \n",
       "2021-09-28 18:30:00+00:00  45.482243   7899584 -0.103615   22.865223   \n",
       "2021-09-28 19:00:00+00:00  45.672478  32681600 -0.064435   34.760348   \n",
       "2021-09-28 19:30:00+00:00  45.466602   6089344 -0.048654   27.486183   \n",
       "2021-09-28 20:00:00+00:00  45.867363  11450112 -0.009541   52.760172   \n",
       "2021-09-28 20:30:00+00:00  45.853348    875584  0.015697   68.764460   \n",
       "2021-09-28 21:00:00+00:00  46.146500   2577344  0.050483  100.000000   \n",
       "2021-09-28 21:30:00+00:00  46.167080   6749504  0.071919   94.450326   \n",
       "2021-09-28 22:00:00+00:00  45.718609    879488  0.053767   61.698862   \n",
       "2021-09-28 22:30:00+00:00  45.475399   3159680  0.024730   43.937452   \n",
       "2021-09-28 23:00:00+00:00  45.589016   6306240  0.013109   52.234802   \n",
       "2021-09-28 23:30:00+00:00  45.027733   1481920 -0.030089   11.412341   \n",
       "2021-09-29 00:00:00+00:00  45.175049  10244288 -0.045523   32.384053   \n",
       "2021-09-29 00:30:00+00:00  45.423759  23489152 -0.036172   48.129776   \n",
       "2021-09-29 01:00:00+00:00  45.645393   9580352 -0.013423   62.161288   \n",
       "\n",
       "                                  %D     psarup   psardown  \n",
       "Datetime                                                    \n",
       "2021-09-28 15:30:00+00:00  10.591929        NaN  48.338421  \n",
       "2021-09-28 16:00:00+00:00  10.325952        NaN  48.158240  \n",
       "2021-09-28 16:30:00+00:00   6.408652        NaN  47.894816  \n",
       "2021-09-28 17:00:00+00:00   7.334552        NaN  47.562100  \n",
       "2021-09-28 17:30:00+00:00   5.354972        NaN  47.160055  \n",
       "2021-09-28 18:00:00+00:00   8.816139        NaN  46.818316  \n",
       "2021-09-28 18:30:00+00:00  14.007750        NaN  46.468295  \n",
       "2021-09-28 19:00:00+00:00  22.669690        NaN  46.181278  \n",
       "2021-09-28 19:30:00+00:00  28.370585        NaN  45.945924  \n",
       "2021-09-28 20:00:00+00:00  38.335568  44.873756        NaN  \n",
       "2021-09-28 20:30:00+00:00  49.670272  44.906541        NaN  \n",
       "2021-09-28 21:00:00+00:00  73.841544  44.938341        NaN  \n",
       "2021-09-28 21:30:00+00:00  87.738262  45.010831        NaN  \n",
       "2021-09-28 22:00:00+00:00  85.383062  45.121733        NaN  \n",
       "2021-09-28 22:30:00+00:00  66.695547  45.222653        NaN  \n",
       "2021-09-28 23:00:00+00:00  52.623705  45.314491        NaN  \n",
       "2021-09-28 23:30:00+00:00  35.861532        NaN  46.243073  \n",
       "2021-09-29 00:00:00+00:00  32.010398        NaN  46.201915  \n",
       "2021-09-29 00:30:00+00:00  30.642056        NaN  46.109612  \n",
       "2021-09-29 01:00:00+00:00  47.558372        NaN  46.022847  "
      ]
     },
     "execution_count": 146,
     "metadata": {},
     "output_type": "execute_result"
    }
   ],
   "source": [
    "df.head(20)\n"
   ]
  },
  {
   "cell_type": "code",
   "execution_count": 147,
   "metadata": {},
   "outputs": [],
   "source": [
    "buyconditions = [\n",
    "    (df['psarup'] < df['Low']), \n",
    "    (df['psarup'] > df['Low']) \n",
    "]\n",
    "\n"
   ]
  },
  {
   "cell_type": "code",
   "execution_count": 148,
   "metadata": {},
   "outputs": [],
   "source": [
    "buyvalues = [1, 0]"
   ]
  },
  {
   "cell_type": "code",
   "execution_count": 149,
   "metadata": {},
   "outputs": [],
   "source": [
    "df['buysignal'] = np.select(buyconditions,buyvalues)"
   ]
  },
  {
   "cell_type": "code",
   "execution_count": 150,
   "metadata": {},
   "outputs": [],
   "source": [
    "sellconditions = [\n",
    "    (df['psardown'] > df['High']), \n",
    "    (df['psardown'] < df['High'])\n",
    "]\n",
    "sellvalues = [1, 0]\n",
    "df['sellsignal'] = np.select(sellconditions,sellvalues)"
   ]
  },
  {
   "cell_type": "code",
   "execution_count": 151,
   "metadata": {},
   "outputs": [],
   "source": [
    "def gettriggers(df, lags, buy=True):\n",
    "    df2 = pd.DataFrame()\n",
    "    for i in range(1, lags+1):\n",
    "        if buy:\n",
    "            mask= (df['%K'].shift(i) < 25) & (df['%D'].shift(i) < 25)\n",
    "        else: \n",
    "            mask= (df['%K'].shift(i) > 75) & (df['%D'].shift(i) > 75)\n",
    "        df2 = df2.append(mask,ignore_index=True)\n",
    "    return df2.sum(axis=0)"
   ]
  },
  {
   "cell_type": "code",
   "execution_count": 152,
   "metadata": {},
   "outputs": [],
   "source": [
    "df['Buytrigger'] = np.where(gettriggers(df, 3),1,0) # if we get a buy signal (sum is larger than 0) we get a 1, if we dont we get a 0."
   ]
  },
  {
   "cell_type": "code",
   "execution_count": 153,
   "metadata": {},
   "outputs": [],
   "source": [
    "df['Selltrigger'] = np.where(gettriggers(df,3, False),1,0)"
   ]
  },
  {
   "cell_type": "code",
   "execution_count": 154,
   "metadata": {},
   "outputs": [],
   "source": [
    "df['Buy'] = np.where((df.buysignal) & (df.Buytrigger) & (df.macd > 0),1,0)"
   ]
  },
  {
   "cell_type": "code",
   "execution_count": 155,
   "metadata": {},
   "outputs": [],
   "source": [
    "df['Sell'] = np.where((df.sellsignal) & (df.Selltrigger) & (df.macd < 0),1,0)"
   ]
  },
  {
   "cell_type": "code",
   "execution_count": 156,
   "metadata": {},
   "outputs": [],
   "source": [
    "Buying_dates, Selling_dates = [], []"
   ]
  },
  {
   "cell_type": "code",
   "execution_count": 157,
   "metadata": {},
   "outputs": [],
   "source": [
    "for i in range(len(df) - 1): \n",
    "    if df.Buy.iloc[i]: # checking if each row has a buy signal\n",
    "        Buying_dates.append(df.iloc[i +1].name) # if condition is met, you buy at the next timepoint (next row)\n",
    "        for num,j in enumerate(df.Sell[i:]): # checking from the buying date if the selling conditions are fulfilled.\n",
    "            if j: # j is the signal if its 1 or 0 \n",
    "                Selling_dates.append(df.iloc[i + num + 1].name) # i + num because num is the number of iterations.\n",
    "                break"
   ]
  },
  {
   "cell_type": "code",
   "execution_count": 158,
   "metadata": {},
   "outputs": [],
   "source": [
    "cutoff =len(Buying_dates) - len(Selling_dates)"
   ]
  },
  {
   "cell_type": "code",
   "execution_count": 159,
   "metadata": {},
   "outputs": [],
   "source": [
    "if cutoff:\n",
    "    Buying_dates = Buying_dates[:-cutoff] # removing the buying dates if the selling conditions have not been fulfilled."
   ]
  },
  {
   "cell_type": "code",
   "execution_count": 160,
   "metadata": {},
   "outputs": [],
   "source": [
    "frame = pd.DataFrame({'Buying_dates':Buying_dates, 'Selling_dates': Selling_dates})"
   ]
  },
  {
   "cell_type": "code",
   "execution_count": 161,
   "metadata": {},
   "outputs": [
    {
     "data": {
      "text/html": [
       "<div>\n",
       "<style scoped>\n",
       "    .dataframe tbody tr th:only-of-type {\n",
       "        vertical-align: middle;\n",
       "    }\n",
       "\n",
       "    .dataframe tbody tr th {\n",
       "        vertical-align: top;\n",
       "    }\n",
       "\n",
       "    .dataframe thead th {\n",
       "        text-align: right;\n",
       "    }\n",
       "</style>\n",
       "<table border=\"1\" class=\"dataframe\">\n",
       "  <thead>\n",
       "    <tr style=\"text-align: right;\">\n",
       "      <th></th>\n",
       "      <th>Buying_dates</th>\n",
       "      <th>Selling_dates</th>\n",
       "    </tr>\n",
       "  </thead>\n",
       "  <tbody>\n",
       "    <tr>\n",
       "      <th>0</th>\n",
       "      <td>2021-09-29 23:30:00+00:00</td>\n",
       "      <td>2021-09-30 08:00:00+00:00</td>\n",
       "    </tr>\n",
       "    <tr>\n",
       "      <th>1</th>\n",
       "      <td>2021-09-30 00:00:00+00:00</td>\n",
       "      <td>2021-09-30 08:00:00+00:00</td>\n",
       "    </tr>\n",
       "    <tr>\n",
       "      <th>2</th>\n",
       "      <td>2021-10-04 08:00:00+00:00</td>\n",
       "      <td>2021-10-04 16:00:00+00:00</td>\n",
       "    </tr>\n",
       "    <tr>\n",
       "      <th>3</th>\n",
       "      <td>2021-10-04 08:30:00+00:00</td>\n",
       "      <td>2021-10-04 16:00:00+00:00</td>\n",
       "    </tr>\n",
       "    <tr>\n",
       "      <th>4</th>\n",
       "      <td>2021-10-08 15:30:00+00:00</td>\n",
       "      <td>2021-10-09 09:30:00+00:00</td>\n",
       "    </tr>\n",
       "    <tr>\n",
       "      <th>5</th>\n",
       "      <td>2021-10-15 03:30:00+00:00</td>\n",
       "      <td>2021-10-16 13:00:00+00:00</td>\n",
       "    </tr>\n",
       "    <tr>\n",
       "      <th>6</th>\n",
       "      <td>2021-10-15 14:30:00+00:00</td>\n",
       "      <td>2021-10-16 13:00:00+00:00</td>\n",
       "    </tr>\n",
       "    <tr>\n",
       "      <th>7</th>\n",
       "      <td>2021-10-16 09:00:00+00:00</td>\n",
       "      <td>2021-10-16 13:00:00+00:00</td>\n",
       "    </tr>\n",
       "    <tr>\n",
       "      <th>8</th>\n",
       "      <td>2021-10-16 09:30:00+00:00</td>\n",
       "      <td>2021-10-16 13:00:00+00:00</td>\n",
       "    </tr>\n",
       "    <tr>\n",
       "      <th>9</th>\n",
       "      <td>2021-10-18 10:00:00+00:00</td>\n",
       "      <td>2021-10-20 21:00:00+00:00</td>\n",
       "    </tr>\n",
       "  </tbody>\n",
       "</table>\n",
       "</div>"
      ],
      "text/plain": [
       "               Buying_dates             Selling_dates\n",
       "0 2021-09-29 23:30:00+00:00 2021-09-30 08:00:00+00:00\n",
       "1 2021-09-30 00:00:00+00:00 2021-09-30 08:00:00+00:00\n",
       "2 2021-10-04 08:00:00+00:00 2021-10-04 16:00:00+00:00\n",
       "3 2021-10-04 08:30:00+00:00 2021-10-04 16:00:00+00:00\n",
       "4 2021-10-08 15:30:00+00:00 2021-10-09 09:30:00+00:00\n",
       "5 2021-10-15 03:30:00+00:00 2021-10-16 13:00:00+00:00\n",
       "6 2021-10-15 14:30:00+00:00 2021-10-16 13:00:00+00:00\n",
       "7 2021-10-16 09:00:00+00:00 2021-10-16 13:00:00+00:00\n",
       "8 2021-10-16 09:30:00+00:00 2021-10-16 13:00:00+00:00\n",
       "9 2021-10-18 10:00:00+00:00 2021-10-20 21:00:00+00:00"
      ]
     },
     "execution_count": 161,
     "metadata": {},
     "output_type": "execute_result"
    }
   ],
   "source": [
    "frame.head(10) # as you can see, there are overlapping buying dates, we will eliminate this buy check if the buying date is greater than the selling date of the previous row. \n"
   ]
  },
  {
   "cell_type": "code",
   "execution_count": 162,
   "metadata": {},
   "outputs": [],
   "source": [
    "actuals = frame[frame.Buying_dates > frame.Selling_dates.shift(1)]"
   ]
  },
  {
   "cell_type": "code",
   "execution_count": 163,
   "metadata": {},
   "outputs": [
    {
     "data": {
      "text/html": [
       "<div>\n",
       "<style scoped>\n",
       "    .dataframe tbody tr th:only-of-type {\n",
       "        vertical-align: middle;\n",
       "    }\n",
       "\n",
       "    .dataframe tbody tr th {\n",
       "        vertical-align: top;\n",
       "    }\n",
       "\n",
       "    .dataframe thead th {\n",
       "        text-align: right;\n",
       "    }\n",
       "</style>\n",
       "<table border=\"1\" class=\"dataframe\">\n",
       "  <thead>\n",
       "    <tr style=\"text-align: right;\">\n",
       "      <th></th>\n",
       "      <th>Buying_dates</th>\n",
       "      <th>Selling_dates</th>\n",
       "    </tr>\n",
       "  </thead>\n",
       "  <tbody>\n",
       "    <tr>\n",
       "      <th>2</th>\n",
       "      <td>2021-10-04 08:00:00+00:00</td>\n",
       "      <td>2021-10-04 16:00:00+00:00</td>\n",
       "    </tr>\n",
       "    <tr>\n",
       "      <th>4</th>\n",
       "      <td>2021-10-08 15:30:00+00:00</td>\n",
       "      <td>2021-10-09 09:30:00+00:00</td>\n",
       "    </tr>\n",
       "    <tr>\n",
       "      <th>5</th>\n",
       "      <td>2021-10-15 03:30:00+00:00</td>\n",
       "      <td>2021-10-16 13:00:00+00:00</td>\n",
       "    </tr>\n",
       "    <tr>\n",
       "      <th>9</th>\n",
       "      <td>2021-10-18 10:00:00+00:00</td>\n",
       "      <td>2021-10-20 21:00:00+00:00</td>\n",
       "    </tr>\n",
       "    <tr>\n",
       "      <th>15</th>\n",
       "      <td>2021-10-22 21:00:00+00:00</td>\n",
       "      <td>2021-10-25 07:00:00+00:00</td>\n",
       "    </tr>\n",
       "    <tr>\n",
       "      <th>17</th>\n",
       "      <td>2021-10-28 02:30:00+00:00</td>\n",
       "      <td>2021-10-28 19:00:00+00:00</td>\n",
       "    </tr>\n",
       "    <tr>\n",
       "      <th>18</th>\n",
       "      <td>2021-11-03 00:00:00+00:00</td>\n",
       "      <td>2021-11-05 08:00:00+00:00</td>\n",
       "    </tr>\n",
       "    <tr>\n",
       "      <th>20</th>\n",
       "      <td>2021-11-05 14:00:00+00:00</td>\n",
       "      <td>2021-11-06 07:30:00+00:00</td>\n",
       "    </tr>\n",
       "    <tr>\n",
       "      <th>22</th>\n",
       "      <td>2021-11-07 10:30:00+00:00</td>\n",
       "      <td>2021-11-09 08:00:00+00:00</td>\n",
       "    </tr>\n",
       "    <tr>\n",
       "      <th>24</th>\n",
       "      <td>2021-11-12 18:00:00+00:00</td>\n",
       "      <td>2021-11-13 10:30:00+00:00</td>\n",
       "    </tr>\n",
       "    <tr>\n",
       "      <th>27</th>\n",
       "      <td>2021-11-13 14:30:00+00:00</td>\n",
       "      <td>2021-11-13 19:00:00+00:00</td>\n",
       "    </tr>\n",
       "    <tr>\n",
       "      <th>30</th>\n",
       "      <td>2021-11-16 08:00:00+00:00</td>\n",
       "      <td>2021-11-17 15:30:00+00:00</td>\n",
       "    </tr>\n",
       "    <tr>\n",
       "      <th>33</th>\n",
       "      <td>2021-11-20 19:00:00+00:00</td>\n",
       "      <td>2021-11-21 14:30:00+00:00</td>\n",
       "    </tr>\n",
       "  </tbody>\n",
       "</table>\n",
       "</div>"
      ],
      "text/plain": [
       "                Buying_dates             Selling_dates\n",
       "2  2021-10-04 08:00:00+00:00 2021-10-04 16:00:00+00:00\n",
       "4  2021-10-08 15:30:00+00:00 2021-10-09 09:30:00+00:00\n",
       "5  2021-10-15 03:30:00+00:00 2021-10-16 13:00:00+00:00\n",
       "9  2021-10-18 10:00:00+00:00 2021-10-20 21:00:00+00:00\n",
       "15 2021-10-22 21:00:00+00:00 2021-10-25 07:00:00+00:00\n",
       "17 2021-10-28 02:30:00+00:00 2021-10-28 19:00:00+00:00\n",
       "18 2021-11-03 00:00:00+00:00 2021-11-05 08:00:00+00:00\n",
       "20 2021-11-05 14:00:00+00:00 2021-11-06 07:30:00+00:00\n",
       "22 2021-11-07 10:30:00+00:00 2021-11-09 08:00:00+00:00\n",
       "24 2021-11-12 18:00:00+00:00 2021-11-13 10:30:00+00:00\n",
       "27 2021-11-13 14:30:00+00:00 2021-11-13 19:00:00+00:00\n",
       "30 2021-11-16 08:00:00+00:00 2021-11-17 15:30:00+00:00\n",
       "33 2021-11-20 19:00:00+00:00 2021-11-21 14:30:00+00:00"
      ]
     },
     "execution_count": 163,
     "metadata": {},
     "output_type": "execute_result"
    }
   ],
   "source": [
    "actuals"
   ]
  },
  {
   "cell_type": "code",
   "execution_count": 164,
   "metadata": {},
   "outputs": [],
   "source": [
    "def profitcalc():\n",
    "    Buyprices = df.loc[actuals.Buying_dates].Open\n",
    "    Sellprices = df.loc[actuals.Selling_dates].Open\n",
    "    return (Sellprices.values - Buyprices.values)/Buyprices.values"
   ]
  },
  {
   "cell_type": "code",
   "execution_count": 165,
   "metadata": {},
   "outputs": [],
   "source": [
    "profits = profitcalc()"
   ]
  },
  {
   "cell_type": "code",
   "execution_count": 166,
   "metadata": {},
   "outputs": [
    {
     "data": {
      "text/plain": [
       "array([-0.0178614 , -0.01392369, -0.04189556,  0.04414235,  0.02274736,\n",
       "        0.03904945, -0.03182775, -0.01825313,  0.12491773, -0.00019844,\n",
       "       -0.01256676, -0.03610834, -0.01152533])"
      ]
     },
     "execution_count": 166,
     "metadata": {},
     "output_type": "execute_result"
    }
   ],
   "source": [
    "profits"
   ]
  },
  {
   "cell_type": "code",
   "execution_count": 167,
   "metadata": {},
   "outputs": [
    {
     "data": {
      "text/plain": [
       "0.0035920381054843444"
      ]
     },
     "execution_count": 167,
     "metadata": {},
     "output_type": "execute_result"
    }
   ],
   "source": [
    "profits.mean() "
   ]
  },
  {
   "cell_type": "code",
   "execution_count": 168,
   "metadata": {},
   "outputs": [
    {
     "data": {
      "text/plain": [
       "1.035496638552549"
      ]
     },
     "execution_count": 168,
     "metadata": {},
     "output_type": "execute_result"
    }
   ],
   "source": [
    "(profits +1).prod()"
   ]
  },
  {
   "cell_type": "code",
   "execution_count": 169,
   "metadata": {},
   "outputs": [],
   "source": [
    "import matplotlib.pyplot as plt "
   ]
  },
  {
   "cell_type": "code",
   "execution_count": 170,
   "metadata": {},
   "outputs": [
    {
     "data": {
      "image/png": "[encoded data removed]",
      "text/plain": [
       "<Figure size 1440x720 with 1 Axes>"
      ]
     },
     "metadata": {
      "needs_background": "light"
     },
     "output_type": "display_data"
    }
   ],
   "source": [
    "plt.figure(figsize=(20,10))\n",
    "plt.plot(df.Close, color='k',alpha=0.7)\n",
    "plt.scatter(actuals.Buying_dates, df.Open[actuals.Buying_dates], marker='^', color='g', s=500)\n",
    "plt.scatter(actuals.Selling_dates, df.Open[actuals.Selling_dates], marker='v', color='r', s=500)\n",
    "plt.title(label= 'BTC-USD',fontsize=25)\n",
    "plt.ylabel(ylabel= 'Price (USD)', fontsize=15)\n",
    "plt.xlabel(xlabel='Date', fontsize=15)\n",
    "plt.show()"
   ]
  }
 ],
 "metadata": {
  "interpreter": {
   "hash": "13eb0af71620a846e484681143862ad0a4deab6cadfc353264e5c14897c11035"
  },
  "kernelspec": {
   "display_name": "Python 3.9.9 64-bit",
   "language": "python",
   "name": "python3"
  },
  "language_info": {
   "codemirror_mode": {
    "name": "ipython",
    "version": 3
   },
   "file_extension": ".py",
   "mimetype": "text/x-python",
   "name": "python",
   "nbconvert_exporter": "python",
   "pygments_lexer": "ipython3",
   "version": "3.9.9"
  },
  "orig_nbformat": 4
 },
 "nbformat": 4,
 "nbformat_minor": 2
}
